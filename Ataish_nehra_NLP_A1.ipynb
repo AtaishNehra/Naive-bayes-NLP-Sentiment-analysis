{
 "cells": [
  {
   "cell_type": "markdown",
   "id": "bc97d6da",
   "metadata": {
    "id": "bc97d6da"
   },
   "source": [
    "## CS 6120: Natural Language Processing\n",
    "\n",
    "### \n",
    "### \n",
    "\n",
    "You will be dealing with movie review data that includes both positive and negative reviews in this assignment. You will use Sentiment Analysis to assess if a given review is positive or negative using the provided dataset.\n",
    "\n",
    "Therefore, we will make use of Naive Bayes algorithm to perform sentiment analysis on the movie review dataset.\n",
    "\n",
    "## Importing the Libraries"
   ]
  },
  {
   "cell_type": "markdown",
   "id": "6e24a686",
   "metadata": {},
   "source": [
    "# Submitted By: Ataish Nehra"
   ]
  },
  {
   "cell_type": "code",
   "execution_count": 1,
   "id": "a03450ac",
   "metadata": {
    "id": "a03450ac"
   },
   "outputs": [
    {
     "name": "stderr",
     "output_type": "stream",
     "text": [
      "[nltk_data] Downloading package stopwords to C:\\Users\\ATAISH\n",
      "[nltk_data]     NEHRA\\AppData\\Roaming\\nltk_data...\n",
      "[nltk_data]   Package stopwords is already up-to-date!\n",
      "[nltk_data] Downloading package wordnet to C:\\Users\\ATAISH\n",
      "[nltk_data]     NEHRA\\AppData\\Roaming\\nltk_data...\n",
      "[nltk_data]   Package wordnet is already up-to-date!\n",
      "[nltk_data] Downloading package punkt to C:\\Users\\ATAISH\n",
      "[nltk_data]     NEHRA\\AppData\\Roaming\\nltk_data...\n",
      "[nltk_data]   Package punkt is already up-to-date!\n"
     ]
    },
    {
     "data": {
      "text/plain": [
       "True"
      ]
     },
     "execution_count": 1,
     "metadata": {},
     "output_type": "execute_result"
    }
   ],
   "source": [
    "import numpy as np\n",
    "import math\n",
    "import pandas as pd\n",
    "import re\n",
    "import nltk\n",
    "from nltk.corpus import stopwords\n",
    "from nltk.stem import PorterStemmer\n",
    "from nltk.tokenize import word_tokenize\n",
    "import warnings\n",
    "import seaborn as sns\n",
    "import matplotlib.pyplot as plt\n",
    "warnings.filterwarnings(\"ignore\")\n",
    "nltk.download('stopwords')\n",
    "nltk.download('wordnet')\n",
    "nltk.download('punkt')"
   ]
  },
  {
   "cell_type": "markdown",
   "id": "fc584cc2",
   "metadata": {
    "id": "fc584cc2"
   },
   "source": [
    "## Reading the data\n",
    "\n",
    "When reading the data, ensure that the '.csv' file is in the same location where your jupyter notebook is used. This way the files are organized and easy to read using the pandas library. "
   ]
  },
  {
   "cell_type": "code",
   "execution_count": 2,
   "id": "3c9ffbf5",
   "metadata": {
    "id": "3c9ffbf5"
   },
   "outputs": [],
   "source": [
    "## Reading the data and removing columns that are not important. \n",
    "df = pd.read_csv(\"movie_reviews.csv\", sep = ',', encoding = 'latin-1', usecols = lambda col: col not in [\"Unnamed: 2\", \"Unnamed: 3\", \"Unnamed: 4\"])"
   ]
  },
  {
   "cell_type": "code",
   "execution_count": 3,
   "id": "f7fa8ac0",
   "metadata": {
    "colab": {
     "base_uri": "https://localhost:8080/",
     "height": 206
    },
    "id": "f7fa8ac0",
    "outputId": "69edaf28-1e2e-4ec7-9530-b30a2853ab9e"
   },
   "outputs": [],
   "source": [
    "# print head of data frame with help of head function"
   ]
  },
  {
   "cell_type": "code",
   "execution_count": 4,
   "id": "b9fb260a",
   "metadata": {},
   "outputs": [
    {
     "data": {
      "text/html": [
       "<div>\n",
       "<style scoped>\n",
       "    .dataframe tbody tr th:only-of-type {\n",
       "        vertical-align: middle;\n",
       "    }\n",
       "\n",
       "    .dataframe tbody tr th {\n",
       "        vertical-align: top;\n",
       "    }\n",
       "\n",
       "    .dataframe thead th {\n",
       "        text-align: right;\n",
       "    }\n",
       "</style>\n",
       "<table border=\"1\" class=\"dataframe\">\n",
       "  <thead>\n",
       "    <tr style=\"text-align: right;\">\n",
       "      <th></th>\n",
       "      <th>review</th>\n",
       "      <th>sentiment</th>\n",
       "    </tr>\n",
       "  </thead>\n",
       "  <tbody>\n",
       "    <tr>\n",
       "      <th>0</th>\n",
       "      <td>One of the other reviewers has mentioned that ...</td>\n",
       "      <td>positive</td>\n",
       "    </tr>\n",
       "    <tr>\n",
       "      <th>1</th>\n",
       "      <td>A wonderful little production. &lt;br /&gt;&lt;br /&gt;The...</td>\n",
       "      <td>positive</td>\n",
       "    </tr>\n",
       "    <tr>\n",
       "      <th>2</th>\n",
       "      <td>I thought this was a wonderful way to spend ti...</td>\n",
       "      <td>positive</td>\n",
       "    </tr>\n",
       "    <tr>\n",
       "      <th>3</th>\n",
       "      <td>Petter Mattei's \"Love in the Time of Money\" is...</td>\n",
       "      <td>positive</td>\n",
       "    </tr>\n",
       "    <tr>\n",
       "      <th>4</th>\n",
       "      <td>Probably my all-time favorite movie, a story o...</td>\n",
       "      <td>positive</td>\n",
       "    </tr>\n",
       "  </tbody>\n",
       "</table>\n",
       "</div>"
      ],
      "text/plain": [
       "                                              review sentiment\n",
       "0  One of the other reviewers has mentioned that ...  positive\n",
       "1  A wonderful little production. <br /><br />The...  positive\n",
       "2  I thought this was a wonderful way to spend ti...  positive\n",
       "3  Petter Mattei's \"Love in the Time of Money\" is...  positive\n",
       "4  Probably my all-time favorite movie, a story o...  positive"
      ]
     },
     "execution_count": 4,
     "metadata": {},
     "output_type": "execute_result"
    }
   ],
   "source": [
    "df.head()"
   ]
  },
  {
   "cell_type": "markdown",
   "id": "1749da04",
   "metadata": {
    "id": "1749da04"
   },
   "source": [
    "## Count plot of the output categories: positive or negative\n",
    "\n",
    "Feel free to take a look at the output and whether the classes are balanced or imbalanced. "
   ]
  },
  {
   "cell_type": "code",
   "execution_count": 5,
   "id": "c152e8a4",
   "metadata": {
    "colab": {
     "base_uri": "https://localhost:8080/",
     "height": 515
    },
    "id": "c152e8a4",
    "outputId": "a2ba0476-3238-4511-fcf0-780508493f48"
   },
   "outputs": [
    {
     "data": {
      "image/png": "[encoded data removed]",
      "text/plain": [
       "<Figure size 576x432 with 1 Axes>"
      ]
     },
     "metadata": {
      "needs_background": "light"
     },
     "output_type": "display_data"
    }
   ],
   "source": [
    "plt.figure(figsize = (8,6))\n",
    "sns.countplot(data=df,x='sentiment')\n",
    "plt.title(\"Positive Vs. Negative reviews count\", fontsize = 15)\n",
    "plt.show()\n"
   ]
  },
  {
   "cell_type": "markdown",
   "id": "9b8549f2",
   "metadata": {
    "id": "9b8549f2"
   },
   "source": [
    "## Upsampling the minority class: (5 points)\n",
    "\n",
    "It is known that Naive bayes is not robust to class imbalance. It could be seen above that the data is little imbalanced. Therefore, class balancing can be done before giving it to the Naive Bayes model for prediction. \n",
    "\n",
    "Feel free to use 'resample' library from sklearn. "
   ]
  },
  {
   "cell_type": "code",
   "execution_count": 6,
   "id": "yHJTAqrW7XMN",
   "metadata": {
    "id": "yHJTAqrW7XMN"
   },
   "outputs": [],
   "source": [
    "## hint: use resample from sklearn.utils\n",
    "from sklearn.utils import resample\n",
    "\n",
    "df_majority = df[df.sentiment == \"positive\"]\n",
    "df_minority = df[df.sentiment == \"negative\"]\n",
    "\n",
    "negative_upsample = resample(df_minority, replace = True, \n",
    "                        n_samples = df_majority.shape[0],\n",
    "                        random_state = 101)\n",
    "\n",
    "df_upsampled = pd.concat([df_majority, negative_upsample])  # concat two data frames i,e majority class data set and upsampled minority class data set\n",
    "df_upsampled = df_upsampled.sample(frac = 1, random_state=0)"
   ]
  },
  {
   "cell_type": "code",
   "execution_count": 7,
   "id": "6a9329bb",
   "metadata": {
    "id": "6a9329bb"
   },
   "outputs": [
    {
     "name": "stdout",
     "output_type": "stream",
     "text": [
      "(12474, 2)\n"
     ]
    }
   ],
   "source": [
    "## Just to ensure that upsampling was done successfully, take a look at the shape of the data in \n",
    "## this cell. \n",
    "\n",
    "# print the shape of data set with the help of shape function having \"negative\" as class label\n",
    "print(negative_upsample.shape)"
   ]
  },
  {
   "cell_type": "markdown",
   "id": "6f8bf6e7",
   "metadata": {
    "id": "6f8bf6e7"
   },
   "source": [
    "### Expected Output : \n",
    "(12474, 2)"
   ]
  },
  {
   "cell_type": "code",
   "execution_count": 8,
   "id": "bdea8155",
   "metadata": {
    "colab": {
     "base_uri": "https://localhost:8080/"
    },
    "id": "bdea8155",
    "outputId": "c665c4b9-826e-4f4e-e30e-06e0935a0622"
   },
   "outputs": [
    {
     "name": "stdout",
     "output_type": "stream",
     "text": [
      "(12474, 2)\n"
     ]
    }
   ],
   "source": [
    "## Ensure that the same number of data points are present for both 'positive' and 'negative' data\n",
    "\n",
    "# print the shape of data set with the help of shape function having \"positive\" as class label\n",
    "print(df_majority.shape)"
   ]
  },
  {
   "cell_type": "markdown",
   "id": "626f01d5",
   "metadata": {
    "id": "626f01d5"
   },
   "source": [
    "### Expected Output : \n",
    "(12474, 2)"
   ]
  },
  {
   "cell_type": "code",
   "execution_count": 9,
   "id": "NoW5z6SzAeP8",
   "metadata": {
    "id": "NoW5z6SzAeP8"
   },
   "outputs": [],
   "source": [
    "## In this cell, we are going to be dividing the data into train and test points\n",
    "## Ensure that you store the upsampled data in a variable called 'df_upsampled' \n",
    "## so that the below operations are performed successfully\n",
    "\n",
    "\n",
    "## Considering 10000 positive and 10000 negative data points\n",
    "\n",
    "negative_data_points_train = df_upsampled[df_upsampled[\"sentiment\"] == \"negative\"].iloc[:10000]\n",
    "positive_data_points_train = df_upsampled[df_upsampled[\"sentiment\"] == \"positive\"].iloc[:10000]\n",
    "\n",
    "\n",
    "## Considering the remaining data points for test\n",
    "negative_data_points_test = df_upsampled[df_upsampled[\"sentiment\"] == \"negative\"].iloc[10000:]\n",
    "positive_data_points_test = df_upsampled[df_upsampled[\"sentiment\"] == \"positive\"].iloc[10000:]\n",
    "\n",
    "\n",
    "\n",
    "## Concatenate the training positive and negative reviews\n",
    "X_train = pd.concat([negative_data_points_train[\"review\"], positive_data_points_train[\"review\"]])\n",
    "\n",
    "# Concatenating the training positive and negative outputs\n",
    "y_train = pd.concat([negative_data_points_train[\"sentiment\"], positive_data_points_train[\"sentiment\"]])\n",
    "\n",
    "# Concatenating the test positive and negative reviews\n",
    "X_test = pd.concat([negative_data_points_test[\"review\"], positive_data_points_test[\"review\"]])\n",
    "\n",
    "# Concatenating the test positive and negative outputs\n",
    "y_test = pd.concat([negative_data_points_test[\"sentiment\"], positive_data_points_test[\"sentiment\"]])"
   ]
  },
  {
   "cell_type": "code",
   "execution_count": 10,
   "id": "77b1f3c4",
   "metadata": {},
   "outputs": [
    {
     "name": "stdout",
     "output_type": "stream",
     "text": [
      "negative    10000\n",
      "positive    10000\n",
      "Name: sentiment, dtype: int64\n"
     ]
    }
   ],
   "source": [
    "## Take a look at the total number of classes and their count using '.value_counts()' for y_train and y_test.\n",
    "## Ensure that there are equal number of positive and negative reviews. \n",
    "\n",
    "print(y_train.value_counts())"
   ]
  },
  {
   "cell_type": "markdown",
   "id": "7dfe6517",
   "metadata": {
    "id": "7dfe6517"
   },
   "source": [
    "### Expected Output:\n",
    "negative    10000<br>\n",
    "positive    10000<br>\n",
    "Name: sentiment, dtype: int64"
   ]
  },
  {
   "cell_type": "code",
   "execution_count": 11,
   "id": "2beae1d6",
   "metadata": {
    "colab": {
     "base_uri": "https://localhost:8080/"
    },
    "id": "2beae1d6",
    "outputId": "6896f930-6a1a-45db-b74c-d080c9aedd0c"
   },
   "outputs": [
    {
     "name": "stdout",
     "output_type": "stream",
     "text": [
      "negative    2474\n",
      "positive    2474\n",
      "Name: sentiment, dtype: int64\n"
     ]
    }
   ],
   "source": [
    "\n",
    "print(y_test.value_counts())"
   ]
  },
  {
   "cell_type": "markdown",
   "id": "9163f897",
   "metadata": {
    "id": "9163f897"
   },
   "source": [
    "### Expected Output : \n",
    "negative    2474<br>\n",
    "positive    2474<br>\n",
    "Name: sentiment, dtype: int64"
   ]
  },
  {
   "cell_type": "markdown",
   "id": "6501699b",
   "metadata": {
    "id": "6501699b"
   },
   "source": [
    "## Q1. Pre-process the reviews: (10 points)\n",
    "\n",
    "We know that a review contains links, punctuation, stopwords and many other words that don't give a lot of meaning for the Naive Bayes model for prediction. \n",
    "\n",
    "In the cell below, one must implement text-preprocessing and remove links, punctuations and stopwords. It is also important to lowercase the letters so that 'Admire' and 'admire' are not treated as different words. \n",
    "\n",
    "In addition to this, perform stemming operation so that similar words are reduced. To know more about stemming, feel free to take a look at this link.\n",
    "\n",
    "https://nlp.stanford.edu/IR-book/html/htmledition/stemming-and-lemmatization-1.html"
   ]
  },
  {
   "cell_type": "code",
   "execution_count": 12,
   "id": "ede0303e",
   "metadata": {},
   "outputs": [],
   "source": [
    "# TASK CELL\n",
    "from nltk.corpus import wordnet as wn\n",
    "from nltk.corpus import stopwords\n",
    "from nltk.tokenize import word_tokenize\n",
    "from nltk.stem import PorterStemmer\n",
    "from nltk.stem import WordNetLemmatizer\n",
    "\n",
    "def clean_review(review):\n",
    "    '''\n",
    "    Input:\n",
    "        review: a string containing a review.\n",
    "    Output:\n",
    "        review_cleaned: a processed review. \n",
    "    '''\n",
    "\n",
    "    \n",
    "    review = re.sub(r'https?:\\/\\/\\S+|www\\.\\S+', '', review) #We are using regular expressions to remove links.\n",
    "    review = re.sub(r'[^\\w\\s]', '', review) #We are using regular expressions to remove punctuations.\n",
    "    review = review.lower() #We are using regular expressions to convert to lowercase.\n",
    "    Cleaned1 = word_tokenize(review)\n",
    "\n",
    "\n",
    "    #We will remove the stop words in the below portion of the code.\n",
    "    stop_words = set(stopwords.words('english'))\n",
    "    Cleaned2 = []\n",
    "    for word in Cleaned1:\n",
    "      if word.lower() not in stop_words:\n",
    "        Cleaned2.append(word.lower())\n",
    "    \n",
    "\n",
    "    \n",
    "    #Stemming is done in the below part\n",
    "    ps = PorterStemmer()\n",
    "    Cleaned3 = []\n",
    "    for word in Cleaned2:\n",
    "      Cleaned3.append(ps.stem(word))\n",
    "    \n",
    "    #Lemmatisation is implemented below using WordNetlemmatizer.\n",
    "    lemmatizer = WordNetLemmatizer()\n",
    "    Cleaned4 = list(map(lemmatizer.lemmatize, Cleaned2))\n",
    "\n",
    "    return Cleaned4"
   ]
  },
  {
   "cell_type": "code",
   "execution_count": 13,
   "id": "b938d440",
   "metadata": {},
   "outputs": [
    {
     "data": {
      "text/plain": [
       "['warning',\n",
       " 'review',\n",
       " 'contains',\n",
       " 'slight',\n",
       " 'spoilersbr',\n",
       " 'br',\n",
       " 'there',\n",
       " 'parallel',\n",
       " 'universe',\n",
       " 'gone',\n",
       " '60',\n",
       " 'second',\n",
       " 'dark',\n",
       " 'edgy',\n",
       " 'controversial',\n",
       " 'independent',\n",
       " 'movie',\n",
       " 'unfortunately',\n",
       " 'dimension',\n",
       " 'gone',\n",
       " 'flashy',\n",
       " 'vacuous',\n",
       " 'testosteronefuelled',\n",
       " 'moronfest',\n",
       " 'starring',\n",
       " 'nicolas',\n",
       " 'cagebr',\n",
       " 'br',\n",
       " 'reason',\n",
       " 'really',\n",
       " 'worth',\n",
       " 'getting',\n",
       " 'large',\n",
       " 'number',\n",
       " 'crony',\n",
       " 'four',\n",
       " 'day',\n",
       " 'steal',\n",
       " 'fifty',\n",
       " 'expensive',\n",
       " 'car',\n",
       " 'one',\n",
       " 'alarm',\n",
       " 'crew',\n",
       " 'consists',\n",
       " 'guy',\n",
       " 'funnyshaped',\n",
       " 'ear',\n",
       " 'who',\n",
       " 'rumoured',\n",
       " 'new',\n",
       " 'superman',\n",
       " 'guy',\n",
       " 'conducted',\n",
       " 'electricity',\n",
       " 'xfiles',\n",
       " 'exprofessional',\n",
       " 'footballer',\n",
       " 'two',\n",
       " 'token',\n",
       " 'black',\n",
       " 'menbr',\n",
       " 'br',\n",
       " 'enemy',\n",
       " 'cop',\n",
       " 'rival',\n",
       " 'car',\n",
       " 'thief',\n",
       " 'bilborough',\n",
       " 'cracker',\n",
       " 'manchester',\n",
       " 'accent',\n",
       " 'suitably',\n",
       " 'flattened',\n",
       " 'broadened',\n",
       " 'american',\n",
       " 'audience',\n",
       " 'used',\n",
       " 'sort',\n",
       " 'thing',\n",
       " 'since',\n",
       " 'daphne',\n",
       " 'frasier',\n",
       " 'there',\n",
       " 'also',\n",
       " 'angelina',\n",
       " 'jolie',\n",
       " 'get',\n",
       " 'character',\n",
       " 'save',\n",
       " 'receptacle',\n",
       " 'men',\n",
       " 'sexual',\n",
       " 'desire',\n",
       " 'cage',\n",
       " 'supposed',\n",
       " 'old',\n",
       " 'flame',\n",
       " 'odd',\n",
       " 'never',\n",
       " 'anything',\n",
       " 'approaching',\n",
       " 'normal',\n",
       " 'conversation',\n",
       " 'film',\n",
       " 'overlong',\n",
       " '135m',\n",
       " 'running',\n",
       " 'timebr',\n",
       " 'br',\n",
       " 'fact',\n",
       " 'characterisation',\n",
       " 'poor',\n",
       " 'whenever',\n",
       " 'anyone',\n",
       " 'moment',\n",
       " 'violin',\n",
       " 'play',\n",
       " 'background',\n",
       " 'accentuate',\n",
       " 'emotion',\n",
       " 'spoiler',\n",
       " 'reveal',\n",
       " 'vinnie',\n",
       " 'jones',\n",
       " 'recreates',\n",
       " 'famous',\n",
       " 'paul',\n",
       " 'gasgoine',\n",
       " 'hand',\n",
       " 'ball',\n",
       " 'manoeuvre',\n",
       " 'quite',\n",
       " 'menacing',\n",
       " 'silent',\n",
       " 'get',\n",
       " 'one',\n",
       " 'line',\n",
       " 'inability',\n",
       " 'speak',\n",
       " 'integral',\n",
       " 'plot',\n",
       " 'eloquent',\n",
       " 'summing',\n",
       " 'film',\n",
       " 'dubious',\n",
       " 'morality',\n",
       " 'appearing',\n",
       " 'mute',\n",
       " 'whole',\n",
       " 'way',\n",
       " 'funny',\n",
       " 'allegedly',\n",
       " 'struggle',\n",
       " 'notquiteactingbutitlldo',\n",
       " 'london',\n",
       " 'drawl',\n",
       " 'cage',\n",
       " 'quip',\n",
       " 'always',\n",
       " 'thought',\n",
       " 'long',\n",
       " 'island',\n",
       " 'rib',\n",
       " 'might',\n",
       " 'imagine',\n",
       " 'well',\n",
       " 'truly',\n",
       " 'tickledbr',\n",
       " 'br',\n",
       " 'fact',\n",
       " 'humour',\n",
       " 'undeveloped',\n",
       " 'aspect',\n",
       " 'tactless',\n",
       " 'comedy',\n",
       " 'policeman',\n",
       " 'two',\n",
       " 'token',\n",
       " 'black',\n",
       " 'character',\n",
       " 'see',\n",
       " 'biggest',\n",
       " 'aspect',\n",
       " 'hollywood',\n",
       " 'take',\n",
       " 'hold',\n",
       " 'black',\n",
       " 'man',\n",
       " 'appear',\n",
       " 'major',\n",
       " 'motion',\n",
       " 'picture',\n",
       " 'without',\n",
       " 'constantly',\n",
       " 'aware',\n",
       " 'skin',\n",
       " 'tone',\n",
       " 'endlessly',\n",
       " 'refer',\n",
       " 'younger',\n",
       " 'man',\n",
       " 'like',\n",
       " 'elder',\n",
       " 'jivetalks',\n",
       " 'whole',\n",
       " 'duration',\n",
       " 'proclaims',\n",
       " 'u',\n",
       " 'black',\n",
       " 'people',\n",
       " 'dont',\n",
       " 'like',\n",
       " 'cold',\n",
       " 'tropical',\n",
       " 'people',\n",
       " 'go',\n",
       " 'express',\n",
       " 'urge',\n",
       " 'smoke',\n",
       " 'joint',\n",
       " 'watch',\n",
       " 'root',\n",
       " 'course',\n",
       " 'parodying',\n",
       " 'image',\n",
       " 'black',\n",
       " 'people',\n",
       " 'funny',\n",
       " 'older',\n",
       " 'counterpart',\n",
       " 'speak',\n",
       " 'without',\n",
       " 'referring',\n",
       " 'thereby',\n",
       " 'colour',\n",
       " 'third',\n",
       " 'person',\n",
       " 'black',\n",
       " 'as',\n",
       " 'black',\n",
       " 'as',\n",
       " 'anyone',\n",
       " 'know',\n",
       " 'black',\n",
       " 'people',\n",
       " 'actually',\n",
       " 'speak',\n",
       " 'like',\n",
       " 'thought',\n",
       " 'notbr',\n",
       " 'br',\n",
       " 'film',\n",
       " 'soundtrack',\n",
       " 'played',\n",
       " 'almost',\n",
       " 'nonstop',\n",
       " 'increasing',\n",
       " 'volume',\n",
       " 'track',\n",
       " 'especially',\n",
       " 'apollo',\n",
       " '440s',\n",
       " 'dont',\n",
       " 'stop',\n",
       " 'rock',\n",
       " 'loud',\n",
       " 'theyre',\n",
       " 'actually',\n",
       " 'audible',\n",
       " 'sound',\n",
       " 'effect',\n",
       " 'dialogue',\n",
       " 'surroundsound',\n",
       " 'system',\n",
       " 'even',\n",
       " 'separate',\n",
       " 'two',\n",
       " 'degree',\n",
       " 'make',\n",
       " 'sound',\n",
       " 'like',\n",
       " 'two',\n",
       " 'different',\n",
       " 'film',\n",
       " 'running',\n",
       " 'together',\n",
       " 'background',\n",
       " 'music',\n",
       " 'concept',\n",
       " 'aural',\n",
       " 'equivalent',\n",
       " 'trying',\n",
       " 'watch',\n",
       " 'film',\n",
       " 'someone',\n",
       " 'back',\n",
       " 'cinema',\n",
       " 'stereo',\n",
       " 'turned',\n",
       " 'full',\n",
       " 'blast',\n",
       " 'keep',\n",
       " 'music',\n",
       " 'young',\n",
       " 'manbr',\n",
       " 'br',\n",
       " 'isnt',\n",
       " 'worst',\n",
       " 'film',\n",
       " 'world',\n",
       " 'many',\n",
       " 'way',\n",
       " 'enjoyed',\n",
       " 'predictable',\n",
       " 'lazy',\n",
       " 'witless',\n",
       " 'minimal',\n",
       " 'effort',\n",
       " 'construction',\n",
       " 'apparently',\n",
       " 'box',\n",
       " 'office',\n",
       " 'expectation',\n",
       " 'considerably',\n",
       " 'movie',\n",
       " 'forcefed',\n",
       " 'junk',\n",
       " 'several',\n",
       " 'year',\n",
       " 'appears',\n",
       " 'general',\n",
       " 'public',\n",
       " 'starting',\n",
       " 'wake',\n",
       " 'fact']"
      ]
     },
     "execution_count": 13,
     "metadata": {},
     "output_type": "execute_result"
    }
   ],
   "source": [
    "#Checking if the preprocessing is able to identify the words.\n",
    "clean_review(X_train.iloc[0])"
   ]
  },
  {
   "cell_type": "markdown",
   "id": "a7632fe5",
   "metadata": {
    "id": "a7632fe5"
   },
   "source": [
    "## Q2. Implement a find_occurrence function (5 points):\n",
    "\n",
    "In this function, we find the total occurrence of a word giving information such as label, word and frequency dictionary.\n",
    "\n",
    "Note that this function is used later in the code when we are going to be predicting the output using Naive Bayes. "
   ]
  },
  {
   "cell_type": "code",
   "execution_count": 14,
   "id": "29019a56",
   "metadata": {},
   "outputs": [],
   "source": [
    "# TASK CELL\n",
    "def find_occurrence(frequency, word, label):\n",
    "    '''\n",
    "    Params:\n",
    "        frequency: a dictionary with the frequency of each pair (word, label)\n",
    "        word: the word to look up\n",
    "        label: the label corresponding to the word\n",
    "    Return:\n",
    "        n: the number of times the word with its corresponding label appears.\n",
    "    '''\n",
    "    if (word, label) in frequency:\n",
    "      return frequency[(word,label)]\n",
    "      \n",
    "    return 0\n"
   ]
  },
  {
   "cell_type": "markdown",
   "id": "29a2249d",
   "metadata": {
    "id": "29a2249d"
   },
   "source": [
    "### Converting output to numerical format:\n",
    "\n",
    "We have outputs as 'positive' or 'negative'. In the cell below, we convert it to a numerical format. "
   ]
  },
  {
   "cell_type": "code",
   "execution_count": 15,
   "id": "d5f8ffc6",
   "metadata": {},
   "outputs": [],
   "source": [
    "## With the use of mapping function, we replace\n",
    "## the label in the form of string to an integer.\n",
    "output_map = {'positive': 0, 'negative': 1}\n",
    "y_train = y_train.map(output_map)\n",
    "y_test = y_test.map(output_map)"
   ]
  },
  {
   "cell_type": "markdown",
   "id": "cd9a5dec",
   "metadata": {},
   "source": [
    "For the above code: In the testing and training dataset we will convert the output to numerical format."
   ]
  },
  {
   "cell_type": "code",
   "execution_count": 16,
   "id": "3dde0bbd",
   "metadata": {
    "colab": {
     "base_uri": "https://localhost:8080/"
    },
    "id": "3dde0bbd",
    "outputId": "223dfbc1-8efe-4183-b6d7-c9cb025cb285"
   },
   "outputs": [
    {
     "data": {
      "text/plain": [
       "1    10000\n",
       "0    10000\n",
       "Name: sentiment, dtype: int64"
      ]
     },
     "execution_count": 16,
     "metadata": {},
     "output_type": "execute_result"
    }
   ],
   "source": [
    "## Ensuring that there are equal number of classes on the training data. \n",
    "y_train.value_counts()"
   ]
  },
  {
   "cell_type": "code",
   "execution_count": 17,
   "id": "f2959b85",
   "metadata": {
    "colab": {
     "base_uri": "https://localhost:8080/",
     "height": 178
    },
    "id": "f2959b85",
    "outputId": "e514214b-cd57-43fc-875d-1821ddab63f8"
   },
   "outputs": [
    {
     "data": {
      "text/plain": [
       "'WARNING: REVIEW CONTAINS SLIGHT SPOILERS<br /><br />There\\'s a parallel universe out there where Gone In 60 Seconds is a dark, edgy, controversial independent movie. Unfortunately in this dimension Gone... is a flashy, vacuous, testosterone-fuelled moronfest starring Nicolas Cage.<br /><br />For reasons not really worth getting into, he and his large number of cronies have four days to steal fifty expensive cars, only one of which has an alarm. This crew consists of the guy with the funny-shaped ears who\\'s rumoured to be the new Superman; a guy who conducted electricity in The X-Files; an ex-professional footballer and two token black men.<br /><br />Their enemies are cops, rival car thieves and Bilborough from Cracker, his Manchester accent suitably flattened and broadened for American audiences who are now used to that sort of thing since Daphne in Frasier. There\\'s also Angelina Jolie, who gets no character; save to be a receptacle to men\\'s sexual desires. She and Cage are supposed to be old flames, which is odd, as they never have anything approaching a normal conversation in all of the film\\'s overlong 135m running time.<br /><br />In fact, characterisation is so poor that whenever anyone has a \"moment\" a violin plays in the background to accentuate the \"emotion\". It\\'s no spoiler to reveal that Vinnie Jones (who recreates his famous Paul Gasgoine \"hand ball\" manoeuvre and is quite menacing when silent) only gets one line; not because his inability to speak is integral to the plot but because his eloquent summing up of the film\\'s dubious morality after appearing mute the whole way through is funny. Allegedly. After he struggles through it in his \"not-quite-acting-but-it\\'ll-do\" London drawl, Cage quips \"I always thought you were from Long Island\". My ribs, as you might imagine, were well and truly tickled.<br /><br />In fact humour is the most undeveloped aspect, from the tactless comedy policeman to the two token black characters. This sees the biggest aspect of Hollywood take hold; why is it that a black man cannot appear in a major motion picture without being constantly aware of his skin tone and endlessly refer to it? The younger man, who, like the elder, jive-talks for the whole duration, proclaims: \"us black people don\\'t like the cold ... we\\'re tropical people\". He then goes on to express an urge to smoke a joint and watch Roots. He is, of course, parodying the image of black people, but how funny is that? His older counterpart cannot speak without referring to himself, and thereby his colour, in third person. \"My black ass\" this, \"my black ass\" that. Does anyone know any black people who actually speak like that? Thought not.<br /><br />The film\\'s soundtrack is played almost non-stop and with increasing volume, some of the tracks - especially Apollo 440\\'s \"Don\\'t Stop The Rock\" - so loud they\\'re actually more audible than the sound effects and dialogue. The surroundsound system even separates the two to such a degree that it makes them sound like two different films running together. No background music concept here, it\\'s the aural equivalent of trying to watch a film while someone at the back of the cinema has their stereo turned up full blast. \"Keep that music down, young man!\"<br /><br />This isn\\'t the worst film in the world and in many ways I enjoyed it. It\\'s just that it\\'s predictable, lazy and witless, with minimal effort in its construction. Apparently box office expectations are considerably down for this movie. After being force-fed junk for several years it appears the general public are starting to wake up to the fact.'"
      ]
     },
     "execution_count": 17,
     "metadata": {},
     "output_type": "execute_result"
    }
   ],
   "source": [
    "## Choosing a random review and taking a look at it.\n",
    "X_train.iloc[0]"
   ]
  },
  {
   "cell_type": "markdown",
   "id": "ed5e43c9",
   "metadata": {
    "id": "ed5e43c9"
   },
   "source": [
    "From the above cell output, it could be seen that there are a lot of words that don't add a lot of meaning to the text. \n",
    "\n",
    "Therefore, those words would be removed. It also reduces the computation time. \n",
    "\n",
    "Therefore, it is a good practice we are following."
   ]
  },
  {
   "cell_type": "code",
   "execution_count": 18,
   "id": "ad3937ea",
   "metadata": {
    "colab": {
     "base_uri": "https://localhost:8080/"
    },
    "id": "ad3937ea",
    "outputId": "68985efe-32cd-4c11-ed5b-2e1e1b297e73"
   },
   "outputs": [
    {
     "name": "stdout",
     "output_type": "stream",
     "text": [
      "['warning', 'review', 'contains', 'slight', 'spoilersbr', 'br', 'there', 'parallel', 'universe', 'gone', '60', 'second', 'dark', 'edgy', 'controversial', 'independent', 'movie', 'unfortunately', 'dimension', 'gone', 'flashy', 'vacuous', 'testosteronefuelled', 'moronfest', 'starring', 'nicolas', 'cagebr', 'br', 'reason', 'really', 'worth', 'getting', 'large', 'number', 'crony', 'four', 'day', 'steal', 'fifty', 'expensive', 'car', 'one', 'alarm', 'crew', 'consists', 'guy', 'funnyshaped', 'ear', 'who', 'rumoured', 'new', 'superman', 'guy', 'conducted', 'electricity', 'xfiles', 'exprofessional', 'footballer', 'two', 'token', 'black', 'menbr', 'br', 'enemy', 'cop', 'rival', 'car', 'thief', 'bilborough', 'cracker', 'manchester', 'accent', 'suitably', 'flattened', 'broadened', 'american', 'audience', 'used', 'sort', 'thing', 'since', 'daphne', 'frasier', 'there', 'also', 'angelina', 'jolie', 'get', 'character', 'save', 'receptacle', 'men', 'sexual', 'desire', 'cage', 'supposed', 'old', 'flame', 'odd', 'never', 'anything', 'approaching', 'normal', 'conversation', 'film', 'overlong', '135m', 'running', 'timebr', 'br', 'fact', 'characterisation', 'poor', 'whenever', 'anyone', 'moment', 'violin', 'play', 'background', 'accentuate', 'emotion', 'spoiler', 'reveal', 'vinnie', 'jones', 'recreates', 'famous', 'paul', 'gasgoine', 'hand', 'ball', 'manoeuvre', 'quite', 'menacing', 'silent', 'get', 'one', 'line', 'inability', 'speak', 'integral', 'plot', 'eloquent', 'summing', 'film', 'dubious', 'morality', 'appearing', 'mute', 'whole', 'way', 'funny', 'allegedly', 'struggle', 'notquiteactingbutitlldo', 'london', 'drawl', 'cage', 'quip', 'always', 'thought', 'long', 'island', 'rib', 'might', 'imagine', 'well', 'truly', 'tickledbr', 'br', 'fact', 'humour', 'undeveloped', 'aspect', 'tactless', 'comedy', 'policeman', 'two', 'token', 'black', 'character', 'see', 'biggest', 'aspect', 'hollywood', 'take', 'hold', 'black', 'man', 'appear', 'major', 'motion', 'picture', 'without', 'constantly', 'aware', 'skin', 'tone', 'endlessly', 'refer', 'younger', 'man', 'like', 'elder', 'jivetalks', 'whole', 'duration', 'proclaims', 'u', 'black', 'people', 'dont', 'like', 'cold', 'tropical', 'people', 'go', 'express', 'urge', 'smoke', 'joint', 'watch', 'root', 'course', 'parodying', 'image', 'black', 'people', 'funny', 'older', 'counterpart', 'speak', 'without', 'referring', 'thereby', 'colour', 'third', 'person', 'black', 'as', 'black', 'as', 'anyone', 'know', 'black', 'people', 'actually', 'speak', 'like', 'thought', 'notbr', 'br', 'film', 'soundtrack', 'played', 'almost', 'nonstop', 'increasing', 'volume', 'track', 'especially', 'apollo', '440s', 'dont', 'stop', 'rock', 'loud', 'theyre', 'actually', 'audible', 'sound', 'effect', 'dialogue', 'surroundsound', 'system', 'even', 'separate', 'two', 'degree', 'make', 'sound', 'like', 'two', 'different', 'film', 'running', 'together', 'background', 'music', 'concept', 'aural', 'equivalent', 'trying', 'watch', 'film', 'someone', 'back', 'cinema', 'stereo', 'turned', 'full', 'blast', 'keep', 'music', 'young', 'manbr', 'br', 'isnt', 'worst', 'film', 'world', 'many', 'way', 'enjoyed', 'predictable', 'lazy', 'witless', 'minimal', 'effort', 'construction', 'apparently', 'box', 'office', 'expectation', 'considerably', 'movie', 'forcefed', 'junk', 'several', 'year', 'appears', 'general', 'public', 'starting', 'wake', 'fact']\n"
     ]
    }
   ],
   "source": [
    "custom_review = X_train.iloc[0]\n",
    "\n",
    "# print cleaned review\n",
    "print(clean_review(custom_review))"
   ]
  },
  {
   "cell_type": "markdown",
   "id": "3e6cc440",
   "metadata": {
    "id": "3e6cc440"
   },
   "source": [
    "We now use this function to pre-process the review and remove words that don't add a lot of meaning in our model. "
   ]
  },
  {
   "cell_type": "markdown",
   "id": "5a762960",
   "metadata": {
    "id": "5a762960"
   },
   "source": [
    "## Q3. Implementing review counter function: (5 points)\n",
    "\n",
    "It is now time to implement the count function for the reviews. \n",
    "\n",
    "In this function, we count the occurrence of words and get the probabilities \n",
    "for the words based on the training data. \n",
    "\n",
    "In other words, we get the probability of occurrence of a word, given that the output is 'positive'.\n",
    "\n",
    "Similarly, we also compute the probability of occurence of a word, given that the output is 'negative'.\n",
    "\n"
   ]
  },
  {
   "cell_type": "code",
   "execution_count": 19,
   "id": "5aa0ce0f",
   "metadata": {},
   "outputs": [],
   "source": [
    "def review_counter(output_occurrence, reviews, positive_or_negative):\n",
    "    '''\n",
    "    Params:\n",
    "        output_occurrence: a dictionary that will be used to map each pair to its frequency\n",
    "        reviews: a list of reviews\n",
    "        positive_or_negative: a list corresponding to the sentiment of each review (either 0 or 1)\n",
    "    Return:\n",
    "        output: a dictionary mapping each pair to its frequency\n",
    "    '''\n",
    "    ## Steps :\n",
    "    # define the key, which is the word and label tuple\n",
    "    # if the key exists in the dictionary, increment the count\n",
    "    # else, if the key is new, add it to the dictionary and set the count to 1\n",
    "    \n",
    "    for label, review in zip(positive_or_negative, reviews):\n",
    "        split_review = clean_review(review)\n",
    "        for word in split_review:\n",
    "            key = (word, label)\n",
    "            if key in output_occurrence:\n",
    "                output_occurrence[key] += 1\n",
    "            else:\n",
    "                output_occurrence[key] = 1\n",
    "    return output_occurrence\n",
    "\n"
   ]
  },
  {
   "cell_type": "markdown",
   "id": "18238223",
   "metadata": {
    "id": "18238223"
   },
   "source": [
    "### Test your function with example reviews:\n",
    "\n",
    "Feel free to run the cell below and understand whether the above function that you have defined is producing the optimum results. "
   ]
  },
  {
   "cell_type": "code",
   "execution_count": 20,
   "id": "07a4c58a",
   "metadata": {
    "colab": {
     "base_uri": "https://localhost:8080/"
    },
    "id": "07a4c58a",
    "outputId": "dd9e148a-34a9-4cfe-9077-c5de33493d7a"
   },
   "outputs": [
    {
     "data": {
      "text/plain": [
       "{('got', 1): 1,\n",
       " ('bored', 1): 2,\n",
       " ('throught', 1): 1,\n",
       " ('moview', 1): 1,\n",
       " ('movie', 0): 2,\n",
       " ('fantastic', 0): 1,\n",
       " ('watch', 1): 1,\n",
       " ('complete', 1): 1,\n",
       " ('waste', 1): 1,\n",
       " ('time', 1): 1,\n",
       " ('money', 1): 1,\n",
       " ('enjoyed', 0): 1,\n",
       " ('fullest', 0): 1}"
      ]
     },
     "execution_count": 20,
     "metadata": {},
     "output_type": "execute_result"
    }
   ],
   "source": [
    "# Testing your function\n",
    "\n",
    "result = {}\n",
    "reviews = ['got bored throught the moview', 'The movie was fantastic', 'Will not watch it again', 'Was bored, it was a complete waste of time and money', 'Enjoyed the movie to the fullest']\n",
    "ys = [1, 0, 1, 1, 0]\n",
    "review_counter(result,reviews, ys)"
   ]
  },
  {
   "cell_type": "markdown",
   "id": "927f89bb",
   "metadata": {
    "id": "927f89bb"
   },
   "source": [
    "### Expected Output:\n",
    " {('bored', 1): 2, <br>\n",
    " ('complete', 1): 1, <br>\n",
    " ('enjoyed', 0): 1, <br>\n",
    " ('fantastic', 0): 1, <br>\n",
    " ('fullest', 0): 1, <br>\n",
    " ('got', 1): 1, <br>\n",
    " ('money', 1): 1, <br>\n",
    " ('movie', 0): 2, <br>\n",
    " ('moview', 1): 1, <br>\n",
    " ('throught', 1): 1, <br>\n",
    " ('time', 1): 1, <br>\n",
    " ('waste', 1): 1, <br>\n",
    " ('watch', 1): 1}"
   ]
  },
  {
   "cell_type": "code",
   "execution_count": 21,
   "id": "9bc62e13",
   "metadata": {
    "id": "9bc62e13"
   },
   "outputs": [],
   "source": [
    "# Build the freqs dictionary for later uses\n",
    "\n",
    "freqs = review_counter({}, X_train, y_train)"
   ]
  },
  {
   "cell_type": "code",
   "execution_count": 22,
   "id": "0eddf420",
   "metadata": {
    "id": "0eddf420"
   },
   "outputs": [
    {
     "data": {
      "text/plain": [
       "{('warning', 1): 163,\n",
       " ('review', 1): 726,\n",
       " ('contains', 1): 140,\n",
       " ('slight', 1): 55,\n",
       " ('spoilersbr', 1): 58,\n",
       " ('br', 1): 23386,\n",
       " ('there', 1): 1367,\n",
       " ('parallel', 1): 42,\n",
       " ('universe', 1): 56,\n",
       " ('gone', 1): 325,\n",
       " ('60', 1): 149,\n",
       " ('second', 1): 869,\n",
       " ('dark', 1): 504,\n",
       " ('edgy', 1): 35,\n",
       " ('controversial', 1): 40,\n",
       " ('independent', 1): 90,\n",
       " ('movie', 1): 22107,\n",
       " ('unfortunately', 1): 718,\n",
       " ('dimension', 1): 37,\n",
       " ('flashy', 1): 16,\n",
       " ('vacuous', 1): 11,\n",
       " ('testosteronefuelled', 1): 2,\n",
       " ('moronfest', 1): 2,\n",
       " ('starring', 1): 157,\n",
       " ('nicolas', 1): 16,\n",
       " ('cagebr', 1): 4,\n",
       " ('reason', 1): 1381,\n",
       " ('really', 1): 4919,\n",
       " ('worth', 1): 853,\n",
       " ('getting', 1): 729,\n",
       " ('large', 1): 211,\n",
       " ('number', 1): 421,\n",
       " ('crony', 1): 6,\n",
       " ('four', 1): 330,\n",
       " ('day', 1): 1300,\n",
       " ('steal', 1): 191,\n",
       " ('fifty', 1): 58,\n",
       " ('expensive', 1): 45,\n",
       " ('car', 1): 721,\n",
       " ('one', 1): 10299,\n",
       " ('alarm', 1): 22,\n",
       " ('crew', 1): 289,\n",
       " ('consists', 1): 88,\n",
       " ('guy', 1): 2137,\n",
       " ('funnyshaped', 1): 2,\n",
       " ('ear', 1): 81,\n",
       " ('who', 1): 248,\n",
       " ('rumoured', 1): 4,\n",
       " ('new', 1): 1323,\n",
       " ('superman', 1): 125,\n",
       " ('conducted', 1): 10,\n",
       " ('electricity', 1): 23,\n",
       " ('xfiles', 1): 20,\n",
       " ('exprofessional', 1): 2,\n",
       " ('footballer', 1): 9,\n",
       " ('two', 1): 2464,\n",
       " ('token', 1): 47,\n",
       " ('black', 1): 805,\n",
       " ('menbr', 1): 5,\n",
       " ('enemy', 1): 133,\n",
       " ('cop', 1): 391,\n",
       " ('rival', 1): 52,\n",
       " ('thief', 1): 74,\n",
       " ('bilborough', 1): 2,\n",
       " ('cracker', 1): 25,\n",
       " ('manchester', 1): 15,\n",
       " ('accent', 1): 343,\n",
       " ('suitably', 1): 20,\n",
       " ('flattened', 1): 3,\n",
       " ('broadened', 1): 2,\n",
       " ('american', 1): 841,\n",
       " ('audience', 1): 1038,\n",
       " ('used', 1): 747,\n",
       " ('sort', 1): 735,\n",
       " ('thing', 1): 3628,\n",
       " ('since', 1): 1065,\n",
       " ('daphne', 1): 15,\n",
       " ('frasier', 1): 10,\n",
       " ('also', 1): 2866,\n",
       " ('angelina', 1): 21,\n",
       " ('jolie', 1): 18,\n",
       " ('get', 1): 5260,\n",
       " ('character', 1): 5604,\n",
       " ('save', 1): 656,\n",
       " ('receptacle', 1): 3,\n",
       " ('men', 1): 681,\n",
       " ('sexual', 1): 253,\n",
       " ('desire', 1): 82,\n",
       " ('cage', 1): 118,\n",
       " ('supposed', 1): 841,\n",
       " ('old', 1): 1464,\n",
       " ('flame', 1): 40,\n",
       " ('odd', 1): 215,\n",
       " ('never', 1): 2662,\n",
       " ('anything', 1): 1461,\n",
       " ('approaching', 1): 28,\n",
       " ('normal', 1): 150,\n",
       " ('conversation', 1): 108,\n",
       " ('film', 1): 16568,\n",
       " ('overlong', 1): 51,\n",
       " ('135m', 1): 2,\n",
       " ('running', 1): 478,\n",
       " ('timebr', 1): 145,\n",
       " ('fact', 1): 1492,\n",
       " ('characterisation', 1): 30,\n",
       " ('poor', 1): 1153,\n",
       " ('whenever', 1): 111,\n",
       " ('anyone', 1): 1102,\n",
       " ('moment', 1): 949,\n",
       " ('violin', 1): 17,\n",
       " ('play', 1): 1405,\n",
       " ('background', 1): 235,\n",
       " ('accentuate', 1): 6,\n",
       " ('emotion', 1): 240,\n",
       " ('spoiler', 1): 370,\n",
       " ('reveal', 1): 84,\n",
       " ('vinnie', 1): 15,\n",
       " ('jones', 1): 191,\n",
       " ('recreates', 1): 6,\n",
       " ('famous', 1): 179,\n",
       " ('paul', 1): 175,\n",
       " ('gasgoine', 1): 2,\n",
       " ('hand', 1): 629,\n",
       " ('ball', 1): 142,\n",
       " ('manoeuvre', 1): 3,\n",
       " ('quite', 1): 1268,\n",
       " ('menacing', 1): 42,\n",
       " ('silent', 1): 162,\n",
       " ('line', 1): 1422,\n",
       " ('inability', 1): 41,\n",
       " ('speak', 1): 213,\n",
       " ('integral', 1): 4,\n",
       " ('plot', 1): 3296,\n",
       " ('eloquent', 1): 7,\n",
       " ('summing', 1): 5,\n",
       " ('dubious', 1): 41,\n",
       " ('morality', 1): 35,\n",
       " ('appearing', 1): 82,\n",
       " ('mute', 1): 35,\n",
       " ('whole', 1): 1396,\n",
       " ('way', 1): 3241,\n",
       " ('funny', 1): 1692,\n",
       " ('allegedly', 1): 23,\n",
       " ('struggle', 1): 130,\n",
       " ('notquiteactingbutitlldo', 1): 2,\n",
       " ('london', 1): 111,\n",
       " ('drawl', 1): 10,\n",
       " ('quip', 1): 11,\n",
       " ('always', 1): 925,\n",
       " ('thought', 1): 1449,\n",
       " ('long', 1): 1239,\n",
       " ('island', 1): 356,\n",
       " ('rib', 1): 8,\n",
       " ('might', 1): 1301,\n",
       " ('imagine', 1): 312,\n",
       " ('well', 1): 3033,\n",
       " ('truly', 1): 607,\n",
       " ('tickledbr', 1): 2,\n",
       " ('humour', 1): 150,\n",
       " ('undeveloped', 1): 25,\n",
       " ('aspect', 1): 266,\n",
       " ('tactless', 1): 2,\n",
       " ('comedy', 1): 1326,\n",
       " ('policeman', 1): 40,\n",
       " ('see', 1): 4339,\n",
       " ('biggest', 1): 231,\n",
       " ('hollywood', 1): 660,\n",
       " ('take', 1): 2130,\n",
       " ('hold', 1): 284,\n",
       " ('man', 1): 1858,\n",
       " ('appear', 1): 271,\n",
       " ('major', 1): 349,\n",
       " ('motion', 1): 168,\n",
       " ('picture', 1): 634,\n",
       " ('without', 1): 1239,\n",
       " ('constantly', 1): 154,\n",
       " ('aware', 1): 85,\n",
       " ('skin', 1): 83,\n",
       " ('tone', 1): 207,\n",
       " ('endlessly', 1): 24,\n",
       " ('refer', 1): 43,\n",
       " ('younger', 1): 126,\n",
       " ('like', 1): 8909,\n",
       " ('elder', 1): 23,\n",
       " ('jivetalks', 1): 2,\n",
       " ('duration', 1): 25,\n",
       " ('proclaims', 1): 13,\n",
       " ('u', 1): 1269,\n",
       " ('people', 1): 3693,\n",
       " ('dont', 1): 4188,\n",
       " ('cold', 1): 157,\n",
       " ('tropical', 1): 12,\n",
       " ('go', 1): 2960,\n",
       " ('express', 1): 85,\n",
       " ('urge', 1): 44,\n",
       " ('smoke', 1): 66,\n",
       " ('joint', 1): 25,\n",
       " ('watch', 1): 2829,\n",
       " ('root', 1): 77,\n",
       " ('course', 1): 839,\n",
       " ('parodying', 1): 9,\n",
       " ('image', 1): 303,\n",
       " ('older', 1): 169,\n",
       " ('counterpart', 1): 19,\n",
       " ('referring', 1): 28,\n",
       " ('thereby', 1): 23,\n",
       " ('colour', 1): 56,\n",
       " ('third', 1): 232,\n",
       " ('person', 1): 756,\n",
       " ('as', 1): 101,\n",
       " ('know', 1): 2929,\n",
       " ('actually', 1): 1960,\n",
       " ('notbr', 1): 44,\n",
       " ('soundtrack', 1): 241,\n",
       " ('played', 1): 814,\n",
       " ('almost', 1): 1235,\n",
       " ('nonstop', 1): 35,\n",
       " ('increasing', 1): 17,\n",
       " ('volume', 1): 43,\n",
       " ('track', 1): 197,\n",
       " ('especially', 1): 719,\n",
       " ('apollo', 1): 11,\n",
       " ('440s', 1): 2,\n",
       " ('stop', 1): 520,\n",
       " ('rock', 1): 305,\n",
       " ('loud', 1): 180,\n",
       " ('theyre', 1): 641,\n",
       " ('audible', 1): 10,\n",
       " ('sound', 1): 892,\n",
       " ('effect', 1): 1373,\n",
       " ('dialogue', 1): 833,\n",
       " ('surroundsound', 1): 2,\n",
       " ('system', 1): 103,\n",
       " ('even', 1): 6250,\n",
       " ('separate', 1): 64,\n",
       " ('degree', 1): 99,\n",
       " ('make', 1): 5091,\n",
       " ('different', 1): 658,\n",
       " ('together', 1): 740,\n",
       " ('music', 1): 951,\n",
       " ('concept', 1): 279,\n",
       " ('aural', 1): 6,\n",
       " ('equivalent', 1): 44,\n",
       " ('trying', 1): 1225,\n",
       " ('someone', 1): 1174,\n",
       " ('back', 1): 1802,\n",
       " ('cinema', 1): 431,\n",
       " ('stereo', 1): 6,\n",
       " ('turned', 1): 419,\n",
       " ('full', 1): 572,\n",
       " ('blast', 1): 29,\n",
       " ('keep', 1): 792,\n",
       " ('young', 1): 988,\n",
       " ('manbr', 1): 36,\n",
       " ('isnt', 1): 1512,\n",
       " ('worst', 1): 1891,\n",
       " ('world', 1): 1005,\n",
       " ('many', 1): 2299,\n",
       " ('enjoyed', 1): 267,\n",
       " ('predictable', 1): 475,\n",
       " ('lazy', 1): 84,\n",
       " ('witless', 1): 16,\n",
       " ('minimal', 1): 69,\n",
       " ('effort', 1): 491,\n",
       " ('construction', 1): 36,\n",
       " ('apparently', 1): 510,\n",
       " ('box', 1): 300,\n",
       " ('office', 1): 193,\n",
       " ('expectation', 1): 176,\n",
       " ('considerably', 1): 25,\n",
       " ('forcefed', 1): 2,\n",
       " ('junk', 1): 129,\n",
       " ('several', 1): 501,\n",
       " ('year', 1): 2024,\n",
       " ('appears', 1): 362,\n",
       " ('general', 1): 277,\n",
       " ('public', 1): 215,\n",
       " ('starting', 1): 104,\n",
       " ('wake', 1): 72,\n",
       " ('lot', 1): 1803,\n",
       " ('actorsactresses', 1): 24,\n",
       " ('involved', 1): 437,\n",
       " ('project', 1): 325,\n",
       " ('insulted', 1): 20,\n",
       " ('felt', 1): 618,\n",
       " ('worse', 1): 967,\n",
       " ('unknown', 1): 118,\n",
       " ('main', 1): 1020,\n",
       " ('problem', 1): 1059,\n",
       " ('clearly', 1): 362,\n",
       " ('created', 1): 143,\n",
       " ('appeal', 1): 205,\n",
       " ('baby', 1): 271,\n",
       " ('boomer', 1): 8,\n",
       " ('20', 1): 329,\n",
       " ('30', 1): 289,\n",
       " ('nbc', 1): 35,\n",
       " ('probably', 1): 1220,\n",
       " ('early', 1): 465,\n",
       " ('90', 1): 291,\n",
       " ('family', 1): 874,\n",
       " ('kid', 1): 1120,\n",
       " ('la', 1): 281,\n",
       " ('riot', 1): 18,\n",
       " ('white', 1): 478,\n",
       " ('rebel', 1): 50,\n",
       " ('listen', 1): 122,\n",
       " ('grunge', 1): 6,\n",
       " ('feature', 1): 551,\n",
       " ('band', 1): 223,\n",
       " ('nirvana', 1): 6,\n",
       " ('nwa', 1): 3,\n",
       " ('soundgarden', 1): 3,\n",
       " ('etc', 1): 463,\n",
       " ('cheesy', 1): 341,\n",
       " ('gurantee', 1): 3,\n",
       " ('period', 1): 286,\n",
       " ('piece', 1): 868,\n",
       " ('done', 1): 1148,\n",
       " ('buy', 1): 334,\n",
       " ('network', 1): 104,\n",
       " ('living', 1): 362,\n",
       " ('certain', 1): 254,\n",
       " ('time', 1): 5702,\n",
       " ('arent', 1): 467,\n",
       " ('thinking', 1): 559,\n",
       " ('whatever', 1): 338,\n",
       " ('decade', 1): 132,\n",
       " ('trendy', 1): 19,\n",
       " ('retro', 1): 11,\n",
       " ('next', 1): 683,\n",
       " ('something', 1): 2210,\n",
       " ('put', 1): 1176,\n",
       " ('weight', 1): 60,\n",
       " ('argh', 1): 1,\n",
       " ('hurt', 1): 172,\n",
       " ('head', 1): 795,\n",
       " ('good', 1): 5663,\n",
       " ('waybr', 1): 74,\n",
       " ('maybe', 1): 1086,\n",
       " ('growing', 1): 79,\n",
       " ('hatred', 1): 35,\n",
       " ('action', 1): 1267,\n",
       " ('genre', 1): 400,\n",
       " ('would', 1): 5728,\n",
       " ('swallow', 1): 26,\n",
       " ('tripe', 1): 60,\n",
       " ('navy', 1): 34,\n",
       " ('seal', 1): 30,\n",
       " ('still', 1): 1812,\n",
       " ('regarded', 1): 15,\n",
       " ('dislike', 1): 62,\n",
       " ('utterly', 1): 210,\n",
       " ('despise', 1): 12,\n",
       " ('itbr', 1): 424,\n",
       " ('fairly', 1): 234,\n",
       " ('fastpaced', 1): 16,\n",
       " ('story', 1): 4145,\n",
       " ('title', 1): 744,\n",
       " ('throw', 1): 246,\n",
       " ('rest', 1): 768,\n",
       " ('away', 1): 1084,\n",
       " ('instead', 1): 1118,\n",
       " ('use', 1): 730,\n",
       " ('halfassesd', 1): 1,\n",
       " ('future', 1): 262,\n",
       " ('gladiator', 1): 12,\n",
       " ('storyline', 1): 370,\n",
       " ('thats', 1): 1778,\n",
       " ('hole', 1): 262,\n",
       " ('danger', 1): 85,\n",
       " ('collapsing', 1): 9,\n",
       " ('base', 1): 82,\n",
       " ('middle', 1): 352,\n",
       " ('arena', 1): 10,\n",
       " ('camera', 1): 902,\n",
       " ('marked', 1): 25,\n",
       " ('footage', 1): 315,\n",
       " ('happened', 1): 451,\n",
       " ('bakersfeild', 1): 1,\n",
       " ('unguarded', 1): 1,\n",
       " ('roombr', 1): 9,\n",
       " ('scream', 1): 155,\n",
       " ('eighty', 1): 47,\n",
       " ('truley', 1): 1,\n",
       " ('awful', 1): 1133,\n",
       " ('score', 1): 328,\n",
       " ('goofy', 1): 77,\n",
       " ('shiny', 1): 17,\n",
       " ('costume', 1): 227,\n",
       " ('ughbr', 1): 9,\n",
       " ('liked', 1): 427,\n",
       " ('peed', 1): 4,\n",
       " ('understand', 1): 680,\n",
       " ('either', 1): 870,\n",
       " ('bad', 1): 5723,\n",
       " ('create', 1): 229,\n",
       " ('scientific', 1): 53,\n",
       " ('explanation', 1): 179,\n",
       " ('zombie', 1): 676,\n",
       " ('end', 1): 2515,\n",
       " ('taking', 1): 351,\n",
       " ('credibility', 1): 70,\n",
       " ('history', 1): 424,\n",
       " ('could', 1): 3661,\n",
       " ('point', 1): 1650,\n",
       " ('write', 1): 307,\n",
       " ('book', 1): 1210,\n",
       " ('much', 1): 3754,\n",
       " ('suck', 1): 344,\n",
       " ('instance', 1): 157,\n",
       " ('50', 1): 176,\n",
       " ('plane', 1): 186,\n",
       " ('killed', 1): 530,\n",
       " ('100', 1): 176,\n",
       " ('kept', 1): 345,\n",
       " ('coming', 1): 396,\n",
       " ('virus', 1): 86,\n",
       " ('give', 1): 1896,\n",
       " ('hepatic', 1): 1,\n",
       " ('complication', 1): 12,\n",
       " ('everybody', 1): 145,\n",
       " ('yellow', 1): 36,\n",
       " ('eye', 1): 629,\n",
       " ('roar', 1): 14,\n",
       " ('lion', 1): 46,\n",
       " ('regenerates', 1): 1,\n",
       " ('tissue', 1): 11,\n",
       " ('superhuman', 1): 18,\n",
       " ('strength', 1): 79,\n",
       " ('mention', 1): 400,\n",
       " ('mess', 1): 385,\n",
       " ('hair', 1): 224,\n",
       " ('important', 1): 304,\n",
       " ('notice', 1): 150,\n",
       " ('shoot', 1): 289,\n",
       " ('pistol', 1): 39,\n",
       " ('happens', 1): 519,\n",
       " ('kicked', 1): 36,\n",
       " ('air', 1): 227,\n",
       " ('remember', 1): 558,\n",
       " ('escorting', 1): 6,\n",
       " ('prisoner', 1): 68,\n",
       " ('loose', 1): 132,\n",
       " ('look', 1): 2883,\n",
       " ('inside', 1): 240,\n",
       " ('drawer', 1): 6,\n",
       " ('cabinet', 1): 7,\n",
       " ('size', 1): 64,\n",
       " ('bottle', 1): 47,\n",
       " ('bastard', 1): 14,\n",
       " ('going', 1): 1811,\n",
       " ('hide', 1): 122,\n",
       " ('chance', 1): 366,\n",
       " ('land', 1): 179,\n",
       " ('mountain', 1): 141,\n",
       " ('survive', 1): 88,\n",
       " ('watching', 1): 1998,\n",
       " ('dozen', 1): 119,\n",
       " ('walk', 1): 296,\n",
       " ('sunrise', 1): 3,\n",
       " ('making', 1): 1098,\n",
       " ('joke', 1): 752,\n",
       " ('dating', 1): 50,\n",
       " ('flight', 1): 82,\n",
       " ('attendant', 1): 12,\n",
       " ('falling', 1): 145,\n",
       " ('boy', 1): 710,\n",
       " ('true', 1): 606,\n",
       " ('love', 1): 1752,\n",
       " ('conquers', 1): 12,\n",
       " ('kind', 1): 1345,\n",
       " ('conquered', 1): 11,\n",
       " ('3which', 1): 2,\n",
       " ('9', 1): 127,\n",
       " ('hour', 1): 958,\n",
       " ('afternoon', 1): 51,\n",
       " ('lover', 1): 223,\n",
       " ('named', 1): 273,\n",
       " ('kai', 1): 14,\n",
       " ('gerta', 1): 10,\n",
       " ('live', 1): 421,\n",
       " ('remote', 1): 89,\n",
       " ('town', 1): 487,\n",
       " ('fantasy', 1): 156,\n",
       " ('muchabused', 1): 3,\n",
       " ('bellboy', 1): 2,\n",
       " ('hotel', 1): 116,\n",
       " ('owned', 1): 35,\n",
       " ('gertas', 1): 4,\n",
       " ('father', 1): 624,\n",
       " ('first', 1): 3211,\n",
       " ('ignores', 1): 26,\n",
       " ('kais', 1): 4,\n",
       " ('advance', 1): 53,\n",
       " ('eventually', 1): 225,\n",
       " ('warms', 1): 2,\n",
       " ('disgust', 1): 40,\n",
       " ('guessed', 1): 61,\n",
       " ('obstacle', 1): 14,\n",
       " ('wasnt', 1): 1094,\n",
       " ('enough', 1): 1551,\n",
       " ('overcome', 1): 41,\n",
       " ('evil', 1): 636,\n",
       " ('snow', 1): 86,\n",
       " ('queen', 1): 158,\n",
       " ('shard', 1): 5,\n",
       " ('glass', 1): 68,\n",
       " ('becomes', 1): 435,\n",
       " ('mean', 1): 1091,\n",
       " ('treat', 1): 104,\n",
       " ('poorly', 1): 535,\n",
       " ('taken', 1): 347,\n",
       " ('fortress', 1): 5,\n",
       " ('set', 1): 1225,\n",
       " ('covered', 1): 81,\n",
       " ('ice', 1): 85,\n",
       " ('hallmark', 1): 42,\n",
       " ('mission', 1): 105,\n",
       " ('along', 1): 678,\n",
       " ('run', 1): 744,\n",
       " ('3', 1): 697,\n",
       " ('season', 1): 175,\n",
       " ('special', 1): 935,\n",
       " ('escape', 1): 239,\n",
       " ('help', 1): 745,\n",
       " ('dull', 1): 540,\n",
       " ('forgettable', 1): 138,\n",
       " ('meet', 1): 412,\n",
       " ('want', 1): 2043,\n",
       " ('turn', 1): 925,\n",
       " ('cant', 1): 1797,\n",
       " ('force', 1): 286,\n",
       " ('effective', 1): 117,\n",
       " ('spell', 1): 32,\n",
       " ('cast', 1): 1337,\n",
       " ('anyways', 1): 53,\n",
       " ('spare', 1): 56,\n",
       " ('ending', 1): 873,\n",
       " ('think', 1): 2925,\n",
       " ('right', 1): 1280,\n",
       " ('better', 1): 2530,\n",
       " ('ended', 1): 248,\n",
       " ('conclusion', 1): 193,\n",
       " ('incredibly', 1): 323,\n",
       " ('boring', 1): 1104,\n",
       " ('fan', 1): 1217,\n",
       " ('plotbr', 1): 58,\n",
       " ('chair', 1): 66,\n",
       " ('ebaybr', 1): 5,\n",
       " ('random', 1): 236,\n",
       " ('peoplebr', 1): 33,\n",
       " ('talk', 1): 407,\n",
       " ('dude', 1): 135,\n",
       " ('im', 1): 2213,\n",
       " ('feeling', 1): 542,\n",
       " ('let', 1): 1218,\n",
       " ('married', 1): 138,\n",
       " ('nowbr', 1): 41,\n",
       " ('hippie', 1): 30,\n",
       " ('must', 1): 1175,\n",
       " ('high', 1): 711,\n",
       " ('drunk', 1): 138,\n",
       " ('otherwise', 1): 334,\n",
       " ('question', 1): 429,\n",
       " ('life', 1): 2025,\n",
       " ('junkbr', 1): 10,\n",
       " ('beginning', 1): 554,\n",
       " ('comment', 1): 513,\n",
       " ('padding', 1): 34,\n",
       " ('aimed', 1): 56,\n",
       " ('demographic', 1): 14,\n",
       " ('found', 1): 974,\n",
       " ('everyday', 1): 32,\n",
       " ('trust', 1): 103,\n",
       " ('filming', 1): 176,\n",
       " ('roadtrip', 1): 3,\n",
       " ('half', 1): 946,\n",
       " ('silence', 1): 72,\n",
       " ('waste', 1): 1045,\n",
       " ('legendary', 1): 70,\n",
       " ('star', 1): 1272,\n",
       " ('although', 1): 781,\n",
       " ('pretty', 1): 1658,\n",
       " ('unconvincing', 1): 131,\n",
       " ('fred', 1): 72,\n",
       " ('astaire', 1): 5,\n",
       " ('guess', 1): 643,\n",
       " ('owed', 1): 14,\n",
       " ('big', 1): 1282,\n",
       " ('favor', 1): 129,\n",
       " ('last', 1): 1108,\n",
       " ('role', 1): 1284,\n",
       " ('script', 1): 1739,\n",
       " ('seems', 1): 1579,\n",
       " ('terribly', 1): 154,\n",
       " ('draggy', 1): 3,\n",
       " ('saw', 1): 1140,\n",
       " ('came', 1): 640,\n",
       " ('1981', 1): 23,\n",
       " ('decent', 1): 678,\n",
       " ('however', 1): 1301,\n",
       " ('seeing', 1): 763,\n",
       " ('actual', 1): 327,\n",
       " ('horror', 1): 1550,\n",
       " ('real', 1): 1595,\n",
       " ('convincing', 1): 175,\n",
       " ('lovely', 1): 139,\n",
       " ('sortof', 1): 4,\n",
       " ('creepy', 1): 191,\n",
       " ('alice', 1): 55,\n",
       " ('krige', 1): 8,\n",
       " ('act', 1): 774,\n",
       " ('best', 1): 1663,\n",
       " ('terrible', 1): 1175,\n",
       " ('sure', 1): 1101,\n",
       " ('lack', 1): 782,\n",
       " ('skill', 1): 152,\n",
       " ('comprehendable', 1): 1,\n",
       " ('plain', 1): 342,\n",
       " ('unless', 1): 392,\n",
       " ('bunch', 1): 471,\n",
       " ('somewhat', 1): 319,\n",
       " ('scared', 1): 123,\n",
       " ('ok', 1): 585,\n",
       " ('free', 1): 283,\n",
       " ('ticket', 1): 80,\n",
       " ('multiplex', 1): 11,\n",
       " ('flea', 1): 2,\n",
       " ('pit', 1): 30,\n",
       " ('single', 1): 366,\n",
       " ('screen', 1): 882,\n",
       " ('healthy', 1): 24,\n",
       " ('side', 1): 485,\n",
       " ('40', 1): 134,\n",
       " ('england', 1): 82,\n",
       " ('released', 1): 347,\n",
       " ('liar', 1): 19,\n",
       " ('dog', 1): 386,\n",
       " ('total', 1): 346,\n",
       " ('celluloid', 1): 78,\n",
       " ('410', 1): 112,\n",
       " ('photograpy', 1): 1,\n",
       " ('rented', 1): 205,\n",
       " ('primarily', 1): 52,\n",
       " ('meg', 1): 13,\n",
       " ('ryan', 1): 86,\n",
       " ('disappointed', 1): 430,\n",
       " ('mere', 1): 73,\n",
       " ('supporting', 1): 220,\n",
       " ('nothing', 1): 2322,\n",
       " ('essential', 1): 34,\n",
       " ('written', 1): 527,\n",
       " ('changing', 1): 57,\n",
       " ('becky', 1): 5,\n",
       " ('harris', 1): 75,\n",
       " ('female', 1): 509,\n",
       " ('shopper', 1): 2,\n",
       " ('whose', 1): 310,\n",
       " ('misfortune', 1): 38,\n",
       " ('store', 1): 236,\n",
       " ('wrong', 1): 899,\n",
       " ('obviously', 1): 592,\n",
       " ('purpose', 1): 274,\n",
       " ('supply', 1): 65,\n",
       " ('wear', 1): 147,\n",
       " ('control', 1): 194,\n",
       " ('miss', 1): 380,\n",
       " ('come', 1): 2136,\n",
       " ('scene', 1): 4505,\n",
       " ('red', 1): 249,\n",
       " ('haired', 1): 20,\n",
       " ('thug', 1): 63,\n",
       " ('apparent', 1): 141,\n",
       " ('aarp', 1): 2,\n",
       " ('finest', 1): 25,\n",
       " ('asset', 1): 23,\n",
       " ('ever', 1): 2492,\n",
       " ('displayed', 1): 24,\n",
       " ('clue', 1): 149,\n",
       " ('absolutely', 1): 741,\n",
       " ('breathtaking', 1): 27,\n",
       " ('opinion', 1): 340,\n",
       " ('literally', 1): 194,\n",
       " ('wore', 1): 26,\n",
       " ('vhs', 1): 65,\n",
       " ('copy', 1): 266,\n",
       " ('capturing', 1): 28,\n",
       " ('charm', 1): 116,\n",
       " ('available', 1): 111,\n",
       " ('dvdbr', 1): 11,\n",
       " ('worthy', 1): 91,\n",
       " ('hoping', 1): 196,\n",
       " ('intelligent', 1): 142,\n",
       " ('count', 1): 156,\n",
       " ('god', 1): 608,\n",
       " ('bless', 1): 14,\n",
       " ('premise', 1): 328,\n",
       " ('makebr', 1): 7,\n",
       " ('require', 1): 39,\n",
       " ('wellhoned', 1): 1,\n",
       " ('masterful', 1): 20,\n",
       " ('direction', 1): 615,\n",
       " ('sadly', 1): 286,\n",
       " ('executed', 1): 102,\n",
       " ('neither', 1): 260,\n",
       " ('leconte', 1): 1,\n",
       " ('director', 1): 2030,\n",
       " ('deliver', 1): 143,\n",
       " ('comedic', 1): 99,\n",
       " ('farce', 1): 52,\n",
       " ('le', 1): 782,\n",
       " ('bronze', 1): 6,\n",
       " ('series', 1): 867,\n",
       " ('another', 1): 1644,\n",
       " ('examplebr', 1): 19,\n",
       " ('timing', 1): 55,\n",
       " ('telegraphed', 1): 18,\n",
       " ('rehashed', 1): 10,\n",
       " ('others', 1): 533,\n",
       " ('sit', 1): 346,\n",
       " ('giving', 1): 334,\n",
       " ('laugh', 1): 930,\n",
       " ('messy', 1): 35,\n",
       " ('subplots', 1): 64,\n",
       " ('allergic', 1): 7,\n",
       " ('daughter', 1): 480,\n",
       " ('lesbian', 1): 140,\n",
       " ('coowner', 1): 1,\n",
       " ('develop', 1): 90,\n",
       " ('envelope', 1): 7,\n",
       " ('viewer', 1): 714,\n",
       " ('believable', 1): 214,\n",
       " ('secondbr', 1): 6,\n",
       " ('compare', 1): 119,\n",
       " ('billy', 1): 137,\n",
       " ('wilder', 1): 10,\n",
       " ('hot', 1): 343,\n",
       " ('foreign', 1): 94,\n",
       " ('afair', 1): 1,\n",
       " ('lecontes', 1): 1,\n",
       " ('compatriot', 1): 2,\n",
       " ('francis', 1): 21,\n",
       " ('veber', 1): 4,\n",
       " ('genius', 1): 130,\n",
       " ('french', 1): 265,\n",
       " ('diner', 1): 23,\n",
       " ('de', 1): 196,\n",
       " ('con', 1): 54,\n",
       " ('placard', 1): 2,\n",
       " ('compere', 1): 1,\n",
       " ('chevre', 1): 1,\n",
       " ('grande', 1): 7,\n",
       " ('blonde', 1): 115,\n",
       " ('youll', 1): 486,\n",
       " ('difference', 1): 150,\n",
       " ('tight', 1): 58,\n",
       " ('great', 1): 2121,\n",
       " ('acting', 1): 3122,\n",
       " ('leading', 1): 216,\n",
       " ('onebr', 1): 96,\n",
       " ('mon', 1): 2,\n",
       " ('meilleur', 1): 1,\n",
       " ('ami', 1): 10,\n",
       " ('twice', 1): 121,\n",
       " ('cruel', 1): 84,\n",
       " ('unusual', 1): 56,\n",
       " ('punishment', 1): 27,\n",
       " ('sign', 1): 145,\n",
       " ('sat', 1): 142,\n",
       " ('turkey', 1): 150,\n",
       " ('hadnt', 1): 122,\n",
       " ('seen', 1): 2570,\n",
       " ('sounded', 1): 99,\n",
       " ('potential', 1): 302,\n",
       " ('mildly', 1): 131,\n",
       " ('entertaining', 1): 452,\n",
       " ('hurricane', 1): 9,\n",
       " ('sequence', 1): 649,\n",
       " ('height', 1): 55,\n",
       " ('storm', 1): 81,\n",
       " ('wind', 1): 169,\n",
       " ('strong', 1): 219,\n",
       " ('blow', 1): 156,\n",
       " ('window', 1): 138,\n",
       " ('house', 1): 794,\n",
       " ('yet', 1): 884,\n",
       " ('tree', 1): 129,\n",
       " ('perfectly', 1): 100,\n",
       " ('upright', 1): 8,\n",
       " ('leaf', 1): 212,\n",
       " ('moving', 1): 221,\n",
       " ('move', 1): 479,\n",
       " ('outside', 1): 214,\n",
       " ('bright', 1): 120,\n",
       " ('sunlight', 1): 11,\n",
       " ('visible', 1): 27,\n",
       " ('illuminating', 1): 3,\n",
       " ('treetop', 1): 1,\n",
       " ('credence', 1): 3,\n",
       " ('filmmaker', 1): 472,\n",
       " ('developed', 1): 128,\n",
       " ('evaporated', 1): 1,\n",
       " ('faster', 1): 46,\n",
       " ('highly', 1): 194,\n",
       " ('localized', 1): 2,\n",
       " ('rain', 1): 53,\n",
       " ('surely', 1): 163,\n",
       " ('homeowner', 1): 1,\n",
       " ('insurance', 1): 25,\n",
       " ('rate', 1): 230,\n",
       " ('sunshine', 1): 24,\n",
       " ('state', 1): 296,\n",
       " ('oh', 1): 775,\n",
       " ('misfire', 1): 36,\n",
       " ('mind', 1): 804,\n",
       " ('wonder', 1): 541,\n",
       " ('drift', 1): 24,\n",
       " ('onto', 1): 152,\n",
       " ('brain', 1): 275,\n",
       " ('numbingly', 1): 16,\n",
       " ('production', 1): 858,\n",
       " ('value', 1): 474,\n",
       " ('stereotype', 1): 172,\n",
       " ('racist', 1): 89,\n",
       " ('dw', 1): 7,\n",
       " ('griffith', 1): 62,\n",
       " ('referred', 1): 27,\n",
       " ('chinese', 1): 112,\n",
       " ('broken', 1): 110,\n",
       " ('blossom', 1): 9,\n",
       " ('unimaginative', 1): 47,\n",
       " ('unengaging', 1): 12,\n",
       " ('difficult', 1): 221,\n",
       " ('narrative', 1): 141,\n",
       " ('plod', 1): 25,\n",
       " ('slow', 1): 425,\n",
       " ('stupid', 1): 1173,\n",
       " ('pointless', 1): 376,\n",
       " ('pace', 1): 177,\n",
       " ('say', 1): 2734,\n",
       " ('filmbr', 1): 346,\n",
       " ('prizzis', 1): 14,\n",
       " ('honor', 1): 55,\n",
       " ('absolute', 1): 140,\n",
       " ('postmodern', 1): 8,\n",
       " ('disaster', 1): 187,\n",
       " ('every', 1): 1551,\n",
       " ('possible', 1): 438,\n",
       " ('senseless', 1): 57,\n",
       " ('john', 1): 725,\n",
       " ('huston', 1): 44,\n",
       " ('directing', 1): 300,\n",
       " ('kathleen', 1): 18,\n",
       " ('turner', 1): 46,\n",
       " ('jack', 1): 287,\n",
       " ('nicholson', 1): 35,\n",
       " ('staring', 1): 59,\n",
       " ('else', 1): 937,\n",
       " ('filling', 1): 33,\n",
       " ('gap', 1): 38,\n",
       " ('dumb', 1): 439,\n",
       " ('weep', 1): 10,\n",
       " ('phone', 1): 198,\n",
       " ('bicker', 1): 6,\n",
       " ('fall', 1): 623,\n",
       " ('neonoir', 1): 6,\n",
       " ('romance', 1): 180,\n",
       " ('gangster', 1): 84,\n",
       " ('overall', 1): 573,\n",
       " ('crime', 1): 293,\n",
       " ('â', 1): 740,\n",
       " ('twinned', 1): 6,\n",
       " ('propel', 1): 5,\n",
       " ('intelligence', 1): 108,\n",
       " ('form', 1): 301,\n",
       " ('screenplay', 1): 274,\n",
       " ('nasty', 1): 153,\n",
       " ('ugly', 1): 199,\n",
       " ('revolving', 1): 13,\n",
       " ('around', 1): 1480,\n",
       " ('allbr', 1): 102,\n",
       " ('ill', 1): 485,\n",
       " ('couple', 1): 753,\n",
       " ('example', 1): 669,\n",
       " ('shoddy', 1): 54,\n",
       " ('show', 1): 2884,\n",
       " ('firstly', 1): 42,\n",
       " ('charley', 1): 6,\n",
       " ('partanna', 1): 12,\n",
       " ('assassin', 1): 53,\n",
       " ('kill', 1): 843,\n",
       " ('work', 1): 1910,\n",
       " ('york', 1): 224,\n",
       " ('resembles', 1): 51,\n",
       " ('flew', 1): 17,\n",
       " ('cuckoo', 1): 13,\n",
       " ('nest', 1): 16,\n",
       " ('international', 1): 63,\n",
       " ('hitman', 1): 15,\n",
       " ('irene', 1): 26,\n",
       " ('walker', 1): 68,\n",
       " ('hit', 1): 454,\n",
       " ('excuse', 1): 304,\n",
       " ('read', 1): 906,\n",
       " ('professional', 1): 111,\n",
       " ('woman', 1): 1813,\n",
       " ('discover', 1): 110,\n",
       " ('hired', 1): 95,\n",
       " ('yes', 1): 633,\n",
       " ('revelation', 1): 65,\n",
       " ('doesnt', 1): 1995,\n",
       " ('happen', 1): 412,\n",
       " ('twenty', 1): 114,\n",
       " ('minute', 1): 1977,\n",
       " ('iq', 1): 57,\n",
       " ('seemingly', 1): 144,\n",
       " ('observation', 1): 40,\n",
       " ('talking', 1): 410,\n",
       " ('serious', 1): 396,\n",
       " ('within', 1): 312,\n",
       " ('shot', 1): 1232,\n",
       " ('assassination', 1): 19,\n",
       " ('suggest', 1): 165,\n",
       " ('hardbodied', 1): 3,\n",
       " ('hitmanbr', 1): 3,\n",
       " ('unlikable', 1): 48,\n",
       " ('unrealistic', 1): 180,\n",
       " ('cinematic', 1): 175,\n",
       " ('dead', 1): 846,\n",
       " ('zone', 1): 53,\n",
       " ('trace', 1): 36,\n",
       " ('merely', 1): 133,\n",
       " ('convention', 1): 41,\n",
       " ('slouch', 1): 3,\n",
       " ('asking', 1): 135,\n",
       " ('marry', 1): 91,\n",
       " ('repetitive', 1): 89,\n",
       " ('able', 1): 460,\n",
       " ('seemed', 1): 668,\n",
       " ('girl', 1): 1590,\n",
       " ('called', 1): 563,\n",
       " ('maerose', 1): 3,\n",
       " ('prizzi', 1): 3,\n",
       " ('served', 1): 66,\n",
       " ('whatsoever', 1): 234,\n",
       " ('tell', 1): 985,\n",
       " ('slept', 1): 19,\n",
       " ('loved', 1): 263,\n",
       " ('got', 1): 1578,\n",
       " ('laughing', 1): 259,\n",
       " ('smart', 1): 164,\n",
       " ('mafia', 1): 33,\n",
       " ('opening', 1): 406,\n",
       " ('wedding', 1): 83,\n",
       " ('alã', 1): 3,\n",
       " ('godfather', 1): 34,\n",
       " ('consequential', 1): 3,\n",
       " ('touch', 1): 180,\n",
       " ('noir', 1): 60,\n",
       " ('police', 1): 389,\n",
       " ('introduced', 1): 131,\n",
       " ('differentbr', 1): 6,\n",
       " ('revolves', 1): 64,\n",
       " ('kidnap', 1): 36,\n",
       " ('dealt', 1): 47,\n",
       " ('kickstart', 1): 3,\n",
       " ('continuously', 1): 21,\n",
       " ('slowly', 1): 136,\n",
       " ('deliberately', 1): 45,\n",
       " ('monotone', 1): 23,\n",
       " ('involving', 1): 195,\n",
       " ('sum', 1): 129,\n",
       " ('everything', 1): 951,\n",
       " ('briefly', 1): 79,\n",
       " ('planned', 1): 46,\n",
       " ('heavy', 1): 167,\n",
       " ('handed', 1): 45,\n",
       " ('arrive', 1): 62,\n",
       " ('dramatic', 1): 228,\n",
       " ('perhaps', 1): 652,\n",
       " ('security', 1): 70,\n",
       " ('elevator', 1): 39,\n",
       " ('careful', 1): 24,\n",
       " ('civilian', 1): 22,\n",
       " ('chosen', 1): 69,\n",
       " ('place', 1): 1017,\n",
       " ('step', 1): 151,\n",
       " ('gunshot', 1): 11,\n",
       " ('occurs', 1): 60,\n",
       " ('edited', 1): 140,\n",
       " ('correctly', 1): 29,\n",
       " ('suspense', 1): 286,\n",
       " ('drama', 1): 401,\n",
       " ('quick', 1): 151,\n",
       " ('draw', 1): 126,\n",
       " ('late', 1): 330,\n",
       " ('continues', 1): 78,\n",
       " ('monotonous', 1): 45,\n",
       " ('uninteresting', 1): 142,\n",
       " ...}"
      ]
     },
     "execution_count": 22,
     "metadata": {},
     "output_type": "execute_result"
    }
   ],
   "source": [
    "## Run this cell to get an idea about the corpus of words and their occurrence along with labels. \n",
    "## In this, we are computing the frequency of occurrence of word given that a review is 'positive'.\n",
    "## Similarly, we also compute the frequence of occurence of word given that a review is 'negative'.\n",
    "freqs"
   ]
  },
  {
   "cell_type": "markdown",
   "id": "759c24bc",
   "metadata": {
    "id": "759c24bc"
   },
   "source": [
    "## Q4. Training the Naive Bayes Model: (20 points)\n",
    "\n",
    "Now we are in the training phase of the Naive Bayes algorithm. In this cell, take a look at the ways to calculate the log likelihood and log prior values as these are important for testing in the next few cells. \n",
    "\n",
    "Also calculate the frequency of occurrence of words where the output is negative. In the same way, calculate the word frequency count using the above functions in order to compute the log likelihood.\n",
    "\n",
    "Return the logprior and loglikelihood output by the model from this function. "
   ]
  },
  {
   "cell_type": "code",
   "execution_count": 23,
   "id": "4bf04b43",
   "metadata": {},
   "outputs": [
    {
     "data": {
      "text/plain": [
       "121693"
      ]
     },
     "execution_count": 23,
     "metadata": {},
     "output_type": "execute_result"
    }
   ],
   "source": [
    "len(freqs)"
   ]
  },
  {
   "cell_type": "code",
   "execution_count": 24,
   "id": "12497a08",
   "metadata": {},
   "outputs": [],
   "source": [
    "from numpy.ma.core import log\n",
    "def train_naive_bayes(freqs, train_x, train_y):\n",
    "    '''\n",
    "    Input:\n",
    "        freqs: dictionary from (word, label) to how often the word appears\n",
    "        train_x: a list of reviews\n",
    "        train_y: a list of labels correponding to the reviews (0,1)\n",
    "    Output:\n",
    "        logprior: the log prior. (equation 3 above)\n",
    "        loglikelihood: the log likelihood of you Naive bayes equation. (equation 6 above)\n",
    "    '''\n",
    "    loglikelihood = {}\n",
    "    logprior = 0\n",
    "\n",
    "\n",
    "    # calculate V, the number of unique words in the vocabulary\n",
    "    unique =set()\n",
    "    keys = freqs.keys()\n",
    "    for (word,label) in keys:\n",
    "      unique.add(word)\n",
    "    vocab = unique\n",
    "    V = len(vocab)\n",
    "\n",
    "    # calculate num_pos and num_neg - the total number of positive and negative words for all documents\n",
    "    num_pos = num_neg = 0\n",
    "    for pair in freqs.keys():\n",
    "        # if the label is positive (greater than zero)\n",
    "        if pair[1] > 0:\n",
    "\n",
    "            # Increment the number of positive words by the count for this (word, label) pair\n",
    "            num_neg += 1 \n",
    "\n",
    "        # else, the label is negative\n",
    "        else:\n",
    "\n",
    "            # increment the number of negative words by the count for this (word,label) pair\n",
    "            num_pos += 1\n",
    "\n",
    "    # Calculate num_doc, the number of documents\n",
    "    num_doc = len(train_y)\n",
    "\n",
    "    # Calculate D_pos, the number of positive documents \n",
    "    pos_num_docs = y_train.value_counts()[0]\n",
    "\n",
    "    # Calculate D_neg, the number of negative documents \n",
    "    neg_num_docs = y_train.value_counts()[1]\n",
    "\n",
    "    # Calculate logprior\n",
    "    logprior = log(neg_num_docs)-log(pos_num_docs)\n",
    "\n",
    "    # For each word in the vocabulary...\n",
    "    \n",
    "    for word in vocab:\n",
    "        # get the positive and negative frequency of the word\n",
    "        if (word,1) in freqs:\n",
    "          freq_neg = freqs[(word,1)]\n",
    "        else:\n",
    "          freq_neg = 0\n",
    "        if (word,0) in freqs:\n",
    "          freq_pos = freqs[(word,0)]\n",
    "        else:\n",
    "          freq_pos = 0\n",
    "\n",
    "        # calculate the probability that each word is positive, and negative\n",
    "        p_w_neg = (freq_neg + 1)/(num_neg + V)\n",
    "        p_w_pos = (freq_pos + 1)/(num_pos + V)\n",
    "\n",
    "\n",
    "        # calculate the log likelihood of the word\n",
    "        loglikelihood[word] = log(p_w_neg/p_w_pos) \n",
    "        \n",
    "    #print(max)\n",
    "\n",
    "    return logprior, loglikelihood"
   ]
  },
  {
   "cell_type": "code",
   "execution_count": 25,
   "id": "1561d892",
   "metadata": {
    "id": "1561d892"
   },
   "outputs": [
    {
     "name": "stdout",
     "output_type": "stream",
     "text": [
      "0.0\n",
      "91691\n"
     ]
    }
   ],
   "source": [
    "# You do not have to input any code in this cell, but it is relevant to grading, so please do not change anything\n",
    "logprior, loglikelihood = train_naive_bayes(freqs, X_train, y_train)\n",
    "print(logprior)\n",
    "print(len(loglikelihood))"
   ]
  },
  {
   "cell_type": "markdown",
   "id": "19d9c882",
   "metadata": {
    "id": "19d9c882"
   },
   "source": [
    "### Expected Output \n",
    "\n",
    "0.0 <br>\n",
    "91425"
   ]
  },
  {
   "cell_type": "markdown",
   "id": "78b51303",
   "metadata": {
    "id": "78b51303"
   },
   "source": [
    "## Q5. Implementing Naive Bayes Predict Function: (10 points)\n",
    "\n",
    "It is now time to make our prediction as to whether a given review is negative or positive respectively. \n",
    "\n",
    "After adding the log likelihood values, ensure that the output is 1 (negative) if the sum of the log likelihood value is greater than 0 and 0 (positive) if the sum of the log likelihood is less than or equal to 0. "
   ]
  },
  {
   "cell_type": "code",
   "execution_count": 26,
   "id": "b692c2f9",
   "metadata": {
    "id": "b692c2f9"
   },
   "outputs": [],
   "source": [
    "# TASK 4 CELL\n",
    "\n",
    "def naive_bayes_predict(review, logprior, loglikelihood):\n",
    "    '''\n",
    "    Params:\n",
    "        review: a string\n",
    "        logprior: a number\n",
    "        loglikelihood: a dictionary of words mapping to numbers\n",
    "    Return:\n",
    "        total_prob: the sum of all the loglikelihoods of each word in the review (if found in the dictionary) + logprior (a number)\n",
    "\n",
    "    '''\n",
    "    \n",
    "    # First step is to get a list of words from the review we are supposed to be testing.\n",
    "    word_l = clean_review(review)\n",
    "\n",
    "    #Secondly we will initialise the probability to zero.\n",
    "    total_prob = 0\n",
    "\n",
    "    #We will now add the value of logprior to the initialised total probability.\n",
    "    total_prob = logprior\n",
    "\n",
    "    for word in word_l:\n",
    "\n",
    "        #check if the word exists in the loglikelihood dictionary\n",
    "        if word in loglikelihood:\n",
    "            # add the log likelihood of that word to the probability\n",
    "            total_prob += loglikelihood[word]\n",
    "            #print(\"probability of\",word,\"is:\",loglikelihood[word])\n",
    "    \n",
    "    if total_prob > 0:\n",
    "        return 1\n",
    "    else:\n",
    "        return 0"
   ]
  },
  {
   "cell_type": "code",
   "execution_count": 27,
   "id": "4b170333",
   "metadata": {
    "colab": {
     "base_uri": "https://localhost:8080/"
    },
    "id": "4b170333",
    "outputId": "0cf6bc90-90e8-4dee-bf95-7eaf39dce147"
   },
   "outputs": [
    {
     "name": "stdout",
     "output_type": "stream",
     "text": [
      "The expected output is 1\n"
     ]
    }
   ],
   "source": [
    "# You do not have to input any code in this cell, but it is relevant to grading, so please do not change anything\n",
    "\n",
    "# Experiment with your own review.\n",
    "my_review = \"I thought this series was going to be another fun, action series with some dynamic plots and great performances. I was wrong. While I like Jamie Denton, this show is hardly worth watching at all, unless you enjoy watching some people brutalized and the actions of the agents supposedly warranted under the theme of national security. The show is great propaganda for the current government, and spews out jingoism as though we talk that way every day. After a couple of episodes, it was boring the hell out of me, and I started watching reruns of House Invaders on BBCAmerica instead. Rather watch CSI and Without a Trace, without a doubt.\"\n",
    "p = naive_bayes_predict(my_review, logprior, loglikelihood)\n",
    "print('The expected output is', p)"
   ]
  },
  {
   "cell_type": "markdown",
   "id": "6242708f",
   "metadata": {
    "id": "6242708f"
   },
   "source": [
    "### Expected Output :\n",
    "The expected output is 1"
   ]
  },
  {
   "cell_type": "markdown",
   "id": "7c4eeb71",
   "metadata": {
    "id": "7c4eeb71"
   },
   "source": [
    "## Q6. Implementing Naive Bayes Test function: (10 points)\n",
    "\n",
    "In this function, implement the previous functions such as naive_bayes_predict to get the predictions for the test set. \n",
    "\n",
    "In addition to this, the function should return the total number of reviews that it correctly classified as 'positive' or 'negative'. "
   ]
  },
  {
   "cell_type": "code",
   "execution_count": 28,
   "id": "66a511e7",
   "metadata": {
    "id": "66a511e7"
   },
   "outputs": [],
   "source": [
    "# UNQ_C6 (UNIQUE CELL IDENTIFIER, DO NOT EDIT)\n",
    "def test_naive_bayes(test_x, test_y, logprior, loglikelihood):\n",
    "    \"\"\"\n",
    "    Input:\n",
    "        test_x: A list of reviews\n",
    "        test_y: the corresponding labels for the list of reviews\n",
    "        logprior: the logprior\n",
    "        loglikelihood: a dictionary with the loglikelihoods for each word\n",
    "    Output:\n",
    "        accuracy: (# of reviews classified correctly)/(total # of reviews)\n",
    "    \"\"\"\n",
    "    accuracy = 0  \n",
    "\n",
    "    \n",
    "    y_hats = []\n",
    "    \n",
    "    for review in test_x:\n",
    "        # if the prediction is > 0\n",
    "        if naive_bayes_predict(review,logprior,loglikelihood) > 0:\n",
    "            # the predicted class is 1\n",
    "            y_hat_i = 1\n",
    "        else:\n",
    "            # otherwise the predicted class is 0\n",
    "            y_hat_i = 0\n",
    "\n",
    "        # append the predicted class to the list y_hats\n",
    "        y_hats.append(y_hat_i)\n",
    "        \n",
    "        \n",
    "        \n",
    "\n",
    "    # error is the average of the absolute values of the differences between y_hats and test_y\n",
    "    sum_error = 0\n",
    "    accurate_count = 0\n",
    "    n = len(test_y)\n",
    "    for i in range(n):\n",
    "      \n",
    "      difference = abs(y_hats[i]-test_y.iloc[i])\n",
    "      \n",
    "      sum_error += difference\n",
    "      if difference == 0 :\n",
    "        accurate_count+=1\n",
    "      \n",
    "\n",
    "    \n",
    "\n",
    "    \n",
    "    error = sum_error / n\n",
    "\n",
    "    accuracy = accurate_count / n\n",
    "\n",
    "\n",
    "    return accuracy, y_hats"
   ]
  },
  {
   "cell_type": "code",
   "execution_count": 29,
   "id": "8a9c5d9d",
   "metadata": {
    "id": "8a9c5d9d"
   },
   "outputs": [
    {
     "name": "stdout",
     "output_type": "stream",
     "text": [
      "If you like original gut wrenching laughter you will like this movie. If you are young or old then y -> 0.00\n",
      "What a waste of talent. A very poor, semi-coherent, script cripples this film. Rather unimaginative  -> 1.00\n",
      "I have seen this film at least 100 times and I am still excited by it, the acting is perfect and the -> 0.00\n",
      "Cheap, amateurish, unimaginative, exploitative... but don't think it'll have redeeming amusement val -> 1.00\n"
     ]
    }
   ],
   "source": [
    "# For grading purpose only\n",
    "# You do not have to input any code in this cell, but it is relevant to grading, so please do not change anything\n",
    "\n",
    "# Run this cell to test your function\n",
    "\n",
    "for review in [\"If you like original gut wrenching laughter you will like this movie. If you are young or old then you will love this movie, hell even my mom liked it.<br /><br />Great Camp!!!\",\n",
    "                \"What a waste of talent. A very poor, semi-coherent, script cripples this film. Rather unimaginative direction, too. Some VERY faint echoes of Fargo here, but it just doesn't come off.\",\n",
    "                \"I have seen this film at least 100 times and I am still excited by it, the acting is perfect and the romance between Joe and Jean keeps me on the edge of my seat, plus I still think Bryan Brown is the tops. Brilliant Film.\",\n",
    "                \"Cheap, amateurish, unimaginative, exploitative... but don't think it'll have redeeming amusement value. About as unentertaining, uninstructive and just plain dull as a film can be.\"]:\n",
    "    p = naive_bayes_predict(review, logprior, loglikelihood)\n",
    "    print(f'{review[:100]} -> {p:.2f}')\n",
    "    "
   ]
  },
  {
   "cell_type": "markdown",
   "id": "43e2ef98",
   "metadata": {
    "id": "43e2ef98"
   },
   "source": [
    "### Expected Output :\n",
    "\n",
    "If you like original gut wrenching laughter you will like this movie. If you are young or old then y -> 0.00 <br>\n",
    "What a waste of talent. A very poor, semi-coherent, script cripples this film. Rather unimaginative  -> 1.00<br>\n",
    "I have seen this film at least 100 times and I am still excited by it, the acting is perfect and the -> 0.00 <br>\n",
    "Cheap, amateurish, unimaginative, exploitative... but don't think it'll have redeeming amusement val -> 1.00\n",
    "\n"
   ]
  },
  {
   "cell_type": "code",
   "execution_count": 30,
   "id": "216fa97a",
   "metadata": {
    "colab": {
     "base_uri": "https://localhost:8080/"
    },
    "id": "216fa97a",
    "outputId": "9d1f21c7-b324-43c2-e841-269c0306cbb4"
   },
   "outputs": [
    {
     "data": {
      "text/plain": [
       "1"
      ]
     },
     "execution_count": 30,
     "metadata": {},
     "output_type": "execute_result"
    }
   ],
   "source": [
    "# Feel free to check the sentiment of your own review below\n",
    "my_review = 'The moview was very boring, I wanted to leave in the middle'\n",
    "naive_bayes_predict(my_review, logprior, loglikelihood)"
   ]
  },
  {
   "cell_type": "markdown",
   "id": "8a45e4f0",
   "metadata": {
    "id": "8a45e4f0"
   },
   "source": [
    "### Expected Output :\n",
    "1"
   ]
  },
  {
   "cell_type": "markdown",
   "id": "mAIkM4aCC1H7",
   "metadata": {
    "id": "mAIkM4aCC1H7"
   },
   "source": [
    "# Q7. Evaluate the accuracy (10 Points)\n",
    "1. Split your data into training and test sets using random selection. Set the seed as parameter of the function so that user can select a different training and test set by changin seed.\n",
    "\n",
    "2. Calculate model paramters with training set.\n",
    "\n",
    "3. Print confusion matrix for training and test set.\n",
    "\n",
    "4. Examine False Positive and False Negative cases and provide reasoning why they get misclassified."
   ]
  },
  {
   "cell_type": "markdown",
   "id": "98901892",
   "metadata": {},
   "source": [
    "### Part 1: Splitting data into training and testing sets. Setting a seed as well."
   ]
  },
  {
   "cell_type": "code",
   "execution_count": 31,
   "id": "9d53bf4f",
   "metadata": {},
   "outputs": [],
   "source": [
    "#The code defines a function train_test that takes two arrays a and b and splits them into training and test sets \n",
    "#using the train_test_split function from scikit-learn's model_selection module. \n",
    "#The function has default parameters test_size=0.33 and seed=1.\n",
    "\n",
    "#The returned training and test sets are then assigned to a_tr, a_tst, b_tr, and b_tst respectively. \n",
    "#In this case, the inputs df_upsampled['review'] and df_upsampled['sentiment'] are passed to the train_test function.\n",
    "from sklearn.model_selection import train_test_split\n",
    "\n",
    "def train_test(a, b, test_size=0.33, seed=1):\n",
    "    return train_test_split(a, b, test_size=test_size, random_state=seed)\n",
    "\n",
    "a_tr, a_tst, b_tr, b_tst = train_test(df_upsampled['review'], df_upsampled['sentiment'])"
   ]
  },
  {
   "cell_type": "code",
   "execution_count": 32,
   "id": "9769def9",
   "metadata": {},
   "outputs": [
    {
     "data": {
      "text/plain": [
       "positive    8367\n",
       "negative    8348\n",
       "Name: sentiment, dtype: int64"
      ]
     },
     "execution_count": 32,
     "metadata": {},
     "output_type": "execute_result"
    }
   ],
   "source": [
    "b_tr.value_counts()"
   ]
  },
  {
   "cell_type": "code",
   "execution_count": 33,
   "id": "c63ae9cb",
   "metadata": {},
   "outputs": [
    {
     "data": {
      "text/plain": [
       "negative    4126\n",
       "positive    4107\n",
       "Name: sentiment, dtype: int64"
      ]
     },
     "execution_count": 33,
     "metadata": {},
     "output_type": "execute_result"
    }
   ],
   "source": [
    "b_tst.value_counts()"
   ]
  },
  {
   "cell_type": "markdown",
   "id": "b5d673ab",
   "metadata": {},
   "source": [
    "### Part 2: Calculate the model parameters."
   ]
  },
  {
   "cell_type": "code",
   "execution_count": 34,
   "id": "966bc501",
   "metadata": {},
   "outputs": [],
   "source": [
    "b_tr = b_tr.map(output_map)\n",
    "b_tst = b_tst.map(output_map)\n",
    "\n",
    "freq = review_counter({}, a_tr, b_tr)\n",
    "logpr, loglikeli = train_naive_bayes(freq, a_tr, b_tr)\n"
   ]
  },
  {
   "cell_type": "code",
   "execution_count": 35,
   "id": "affb159f",
   "metadata": {},
   "outputs": [],
   "source": [
    "# Accuracy for train and test data\n",
    "\n",
    "accu_tr, preds_tr = test_naive_bayes(a_tr, b_tr, logpr, loglikeli)\n",
    "accu_tst, preds_tst = test_naive_bayes(a_tst, b_tst, logpr, loglikeli)"
   ]
  },
  {
   "cell_type": "code",
   "execution_count": 36,
   "id": "056aaac2",
   "metadata": {},
   "outputs": [
    {
     "name": "stdout",
     "output_type": "stream",
     "text": [
      "Train accuracy: 0.8941070894406222\n",
      "Test accuracy: 0.8203570994777116\n"
     ]
    }
   ],
   "source": [
    "print(\"Train accuracy:\", accu_tr)\n",
    "print(\"Test accuracy:\" , accu_tst)"
   ]
  },
  {
   "cell_type": "markdown",
   "id": "45a8f5e8",
   "metadata": {},
   "source": [
    "### Part 3: Confusion Matrix for train and test data sets."
   ]
  },
  {
   "cell_type": "code",
   "execution_count": 37,
   "id": "8ea5183c",
   "metadata": {},
   "outputs": [
    {
     "name": "stdout",
     "output_type": "stream",
     "text": [
      "Train: \n",
      " [[6658 1709]\n",
      " [  61 8287]]\n",
      "Test: \n",
      " [[2735 1372]\n",
      " [ 107 4019]]\n"
     ]
    }
   ],
   "source": [
    "from sklearn.metrics import confusion_matrix\n",
    "cf_tr = confusion_matrix(b_tr, preds_tr)\n",
    "cf_tst = confusion_matrix(b_tst, preds_tst)\n",
    "print(\"Train: \\n\", cf_tr)\n",
    "print(\"Test: \\n\", cf_tst)"
   ]
  },
  {
   "cell_type": "markdown",
   "id": "d0c9ef81",
   "metadata": {},
   "source": [
    "### Part 4:"
   ]
  },
  {
   "cell_type": "markdown",
   "id": "f5a8078c",
   "metadata": {},
   "source": [
    "A false positive is an outcome where the model incorrectly predicts the positive class and an outcome where a model incorrectly predicts the negative class is called a false negative.\n",
    "\n",
    "Example of False positive: \n",
    "A patient may be diagnosed with a disease when they actually do not have a disease.\n",
    "\n",
    "Example of False negative:\n",
    "A test may show that a patient does not have a particular disease when they actually do, this type of outcome is called false negative."
   ]
  },
  {
   "cell_type": "markdown",
   "id": "75ef4081",
   "metadata": {},
   "source": [
    "The Naive Bayes technique has limited applicability in real-world use situations since it presumes that all predictors (or attributes) are independent, which is a rare occurrence in reality.\n",
    "\n",
    "In our sentiment analyzer, it is assumed that each word is independent of the context of the entire phrase. As a result, the classifier does not grasp the context of the entire sentence and instead classifies according to the probabilities of the individual words. Sarcasm would also be misunderstood, and these characteristics increase the number of false positives and negatives."
   ]
  },
  {
   "cell_type": "markdown",
   "id": "edad09b7",
   "metadata": {},
   "source": [
    "The independence assumption of Naive Bayes makes it a fast and simple algorithm, but it also means that it has limited accuracy for more complex real-world problems. This can lead to a high rate of false positives and negatives, particularly in cases where the context of the sentence is important, as you mentioned with sarcasm and other nuances in language. Despite these limitations, Naive Bayes can still be useful in certain applications where the independence assumption is reasonable, or as a quick-and-dirty baseline for comparison with more complex algorithms.\n",
    "\n",
    "False positive and false negative can occur in Naive Bayes Sentiment Analysis of movie reviews due to various reasons such as:\n",
    "\n",
    "The following causes can lead to a false positive:\n",
    "\n",
    "1. Limited training data: The model might not be able to effectively capture the subtleties of language and sentiment if it is trained on a tiny dataset.\n",
    "2. Irrelevant features: The model may give more weight to irrelevant features, which could result in inaccurate classifications.\n",
    "3. Unbalanced data: The model may be biased toward the majority class and produce misleading positive predictions if the dataset includes an unbalanced distribution of positive and negative ratings.\n",
    "\n",
    "The following factors can lead to a false negative:\n",
    "\n",
    "1. Ambiguous words: The algorithm may misread the sentiment and produce erroneous negative predictions if a review contains ambiguous words that can be read in a number of different ways.\n",
    "2. Negation words: The model may not accurately identify the sentiment in a review if it contains negation words like \"not\" or \"never,\" which will lead to false negatives.\n",
    "3. Complex language patterns: The algorithm may have trouble capturing the sentiment in a review with complex sentence structures, which could lead to erroneous negative predictions.\n",
    "4. These problems can be resolved by utilizing more sophisticated algorithms, expanding the training dataset, and optimizing the model's parameters to increase accuracy."
   ]
  },
  {
   "cell_type": "markdown",
   "id": "XbzttYVnBo7W",
   "metadata": {
    "id": "XbzttYVnBo7W"
   },
   "source": [
    "# Q8. Modularize your calssifier (10 points)\n",
    "1. Convert your code into a python module text_classifier.py\n",
    "\n",
    "2. The user should be able to launch the application on command prompt using python test_classifier.py command. The module will automatically load the model paramters from a local file of your choice and be ready to take the input from user on command prompt. The program will preprocess user input, tokenize and predict the class.\n",
    "\n",
    "3. Your module will take the input from user and output sentiment class in an indefinite loop. The output should printout the probabilities for each input token along with the final classification decision. Program will quit if user enters X.\n"
   ]
  },
  {
   "cell_type": "code",
   "execution_count": 38,
   "id": "lKAQrnnbBnKe",
   "metadata": {
    "id": "lKAQrnnbBnKe"
   },
   "outputs": [],
   "source": [
    "# We will write \"logprior\" and \"loglikelihood\" into a file called values, this file will get \n",
    "# created and saved locally on the jupyter notebook and we then downloaded that file so that it can be used later.\n",
    "file1 = open(\"values.txt\",\"w+\")\n",
    "\n",
    "#writing logprior in values file\n",
    "file1.write(str(logprior))\n",
    "file1.write(\"\\n\")\n",
    "\n",
    "#writing loglikelihood in values file\n",
    "file1.write(str(loglikelihood))\n",
    "file1.close()"
   ]
  },
  {
   "cell_type": "markdown",
   "id": "55d3d98e",
   "metadata": {},
   "source": [
    "### Screenshot of working application with code and performed analysis is given below. "
   ]
  },
  {
   "attachments": {
    "ctyul.jpg": {
     "image/jpeg": "[encoded data removed]"
    }
   },
   "cell_type": "markdown",
   "id": "20801895",
   "metadata": {},
   "source": [
    "![ctyul.jpg](attachment:ctyul.jpg)"
   ]
  },
  {
   "cell_type": "markdown",
   "id": "be9e3d8b",
   "metadata": {},
   "source": [
    "We can now just use text_classifier.py file using the values file and the above application would run smoothly."
   ]
  },
  {
   "cell_type": "markdown",
   "id": "82e6e4d1",
   "metadata": {
    "id": "82e6e4d1"
   },
   "source": [
    "# Q9. Theory Questions: (10 points)\n",
    "\n",
    "1. Why is Laplace Smoothing or Additive Smoothing required while executing Naive Bayes operations, especially for text classification? Show how not having additive smoothing leads to bad outcomes by using an example of training and the test set. (10 points)\n",
    "\n",
    "\n",
    "2. Why are logarithmic values computed instead of only probability values in the Naive Bayes algorithm? (5 points)"
   ]
  },
  {
   "attachments": {},
   "cell_type": "markdown",
   "id": "2f2d93b4",
   "metadata": {},
   "source": [
    "## ANSWERS:\n",
    "\n",
    "### Part 1:\n",
    "\n",
    "Naive Bayes is a type of supervised learning algorithm that is based on Bayes theorem. It is used to perform classification tasks by utilizing a probabilistic approach. Bayes theorem calculates the likelihood of an event happening based on prior knowledge or events. This theorem can be represented mathematically as:"
   ]
  },
  {
   "attachments": {
    "vhg.jpg": {
     "image/jpeg": "[encoded data removed]"
    }
   },
   "cell_type": "markdown",
   "id": "43983a33",
   "metadata": {},
   "source": [
    "![vhg.jpg](attachment:vhg.jpg)"
   ]
  },
  {
   "cell_type": "markdown",
   "id": "e794e279",
   "metadata": {},
   "source": [
    "The independence of features and the absence of correlation between them serve as the foundation for the Naive Bayes algorithm. Furthermore, it makes the assumption that all features are equally significant and do not create redundancy.\n",
    "\n",
    "When applying the Naive Bayes method, one problem that can occur is that the posterior probability might turn into zero when evaluating new data. For instance, the likelihood of a new word being encountered by a word finder model would be zero, yielding a final result of zero.\n",
    "\n",
    "Laplace smoothing is applied to solve this problem. By modestly increasing the likelihood of unobserved events and decreasing the probability of observed events, this method assures that the posterior probability is never 0 and that the ultimate probability sum is always 1. To do this, the posterior probability formula is modified.\n",
    "\n",
    "To deal with the problem of zero probability, Naive Bayes algorithms for text categorization employ Laplace smoothing, sometimes referred to as additive smoothing. By counting the instances of each word in the training data that correspond to that class, the term frequency-based Naive Bayes models calculate the likelihood that each word belongs to a given class.\n",
    "\n",
    "The issue with this strategy is that there might be some test data terms that never appear in training data, leading the algorithm to give these words a chance of zero. This zero likelihood will translate into a zero likelihood in total for that class, resulting in an inaccurate categorization.\n",
    "\n",
    "This problem is addressed by the Laplace smoothing method, which smoothes out the probability estimates and prevents any zero probabilities by adding a little positive constant (often 1) to each count. The constant's addition enables the algorithm to take into account additional terms and lessens the likelihood that the model will become overfit to the training set of data.\n",
    "\n",
    "We modify the posterior probability formula in the following way:"
   ]
  },
  {
   "attachments": {
    "asdfg.jpg": {
     "image/jpeg": "[encoded data removed]"
    }
   },
   "cell_type": "markdown",
   "id": "2b6e242a",
   "metadata": {},
   "source": [
    "![asdfg.jpg](attachment:asdfg.jpg)"
   ]
  },
  {
   "cell_type": "markdown",
   "id": "1b1547a4",
   "metadata": {},
   "source": [
    "The value of alpha is a smoothing parameter, and if it is set to any value other than 0, the probability will no longer be zero.\n",
    "Here, P(w' | positive) is the probability of word w' given the class positive. number of reviews with w' and y=positive is the count of the word w' in the positive class. N is the total number of words in the positive class. α is the smoothing constant, which is a small positive number (usually 1) used to prevent zero probabilities. K is the number of unique words in the vocabulary.\n",
    "\n",
    "The formula computes the smoothed probability of a word w' belonging to the positive class by adding the smoothing constant α to the count of the word in the positive class, and then normalizing the result by dividing by the total number of words in the positive class plus the product of the smoothing constant and the number of unique words in the vocabulary."
   ]
  },
  {
   "attachments": {
    "awsedr.jpg": {
     "image/jpeg": "[encoded data removed]"
    }
   },
   "cell_type": "markdown",
   "id": "54205421",
   "metadata": {},
   "source": [
    "Consider a simple example where we are trying to classify documents as either positive or negative based on the presence of certain words. We have a training set of 1000 positive and 1000 negative documents and the following word frequencies:\n",
    "\n",
    "![awsedr.jpg](attachment:awsedr.jpg)\n",
    "\n",
    "Without additive smoothing, we calculate the probability of each word given the positive and negative classes as follows:\n",
    "\n",
    "P(love | positive) = 500/1000 = 0.5\n",
    "\n",
    "P(hate | positive) = 100/1000 = 0.1\n",
    "\n",
    "P(peace | positive) = 200/1000 = 0.2\n",
    "\n",
    "P(war | positive) = 100/1000 = 0.1\n",
    "\n",
    "P(love | negative) = 100/1000 = 0.1\n",
    "\n",
    "P(hate | negative) = 500/1000 = 0.5\n",
    "\n",
    "P(peace | negative) = 200/1000 = 0.2\n",
    "\n",
    "P(war | negative) = 400/1000 = 0.4\n",
    "\n",
    "\n",
    "\n",
    "Now, let's say we have a test document with the words \"love\" and \"peace\". We calculate the probability of the document being positive or negative as follows:\n",
    "\n",
    "P(positive | {love, peace}) = P(positive) * P(love | positive) * P(peace | positive) = 0.5 * 0.5 * 0.2 = 0.05\n",
    "\n",
    "P(negative | {love, peace}) = P(negative) * P(love | negative) * P(peace | negative) = 0.5 * 0.1 * 0.2 = 0.01\n",
    "\n",
    "\n",
    "\n",
    "Since the probability of the document being positive is higher, we classify the document as positive.\n",
    "\n",
    "However, in the case of a test document with the words \"hate\" and \"war\", we have:\n",
    "\n",
    "P(positive | {hate, war}) = P(positive) * P(hate | positive) * P(war | positive) = 0.5 * 0.1 * 0.1 = 0.005\n",
    "\n",
    "P(negative | {hate, war}) = P(negative) * P(hate | negative) * P(war | negative) = 0.5 * 0.5 * 0.4 = 0.1\n",
    "\n",
    "Here, the probability of the document being negative is higher, so we classify the document as negative.\n",
    "\n",
    "\n",
    "In this example, the absence of additive smoothing leads to incorrect classifications because the probabilities of certain words given a class are zero, causing the overall probability of the class to be zero as well. This issue can be addressed by using Laplace smoothing, where a small positive constant is added to each count to prevent zero probabilities."
   ]
  },
  {
   "cell_type": "markdown",
   "id": "745b2441",
   "metadata": {},
   "source": [
    "### Part 2:\n"
   ]
  },
  {
   "cell_type": "markdown",
   "id": "6bba9fc2",
   "metadata": {},
   "source": [
    "To categorize a document using the Naive Bayes technique, we must compute the product of many probabilities. For instance, when solving a text classification task, it may be necessary to add the probabilities of each word given a class in a document with many words. The product of the probabilities can, however, get very small as the document's word count rises and could cause floating-point arithmetic underflow issues.\n",
    "\n",
    "When working with large vocabulary in a problem, the product of all probabilities tends to approach zero. This problem is made worse with each added feature, as multiplying many probabilities together results in a very small number. One solution to this issue is to represent probabilities as log-probabilities. This is done for several reasons:\n",
    "\n",
    "Log-probabilities have a much wider range of numbers between -infinity and 0 compared to probabilities that are between 0 and 1.\n",
    "The property of logarithms states that if a is less than b, then ln(a) is less than ln(b). Therefore, comparing log-probabilities is equivalent to comparing probabilities, which is necessary for determining the maximum probability (as in the argmax function).\n",
    "\n",
    "A problem known as underflow arises when a number's magnitude is too small to be adequately represented in floating-point format. This reduces precision and increases the likelihood that the result will be rounded to zero, even if it is actually a small positive number.\n",
    "\n",
    "To address this difficulty, we operate with logarithmic values instead of raw probabilities. Given that a number's logarithm is a monotonic function, if a > b, then log(a)  >  log (b). As a result, adding the logarithms of the individual numbers in a product is equivalent to adding the logarithms of the individual numbers. To overcome the issue of underflow, which happens when the product of numerous small probability values becomes too small to be represented by a computer, the Naive Bayes algorithm computes logarithmic values rather than just probability values. The difficulty is made worse by the addition of features since when working with a big vocabulary, the sum of all probabilities tends to be close to zero. This problem is solved by providing the probabilities as logarithmic numbers rather than conventional probability values. Because the sum of many small values gets turned into the product of many small values when computing logarithmic values. These values can be represented by the computer and are considerably easier to handle. Additionally, the range of numbers between -infinity and 0 is substantially greater for logarithmic values, allowing for more precise calculations."
   ]
  }
 ],
 "metadata": {
  "colab": {
   "collapsed_sections": [],
   "name": "CS6120_NLP_Assignment_1_Notebook.ipynb",
   "provenance": [],
   "toc_visible": true
  },
  "kernelspec": {
   "display_name": "Python 3 (ipykernel)",
   "language": "python",
   "name": "python3"
  },
  "language_info": {
   "codemirror_mode": {
    "name": "ipython",
    "version": 3
   },
   "file_extension": ".py",
   "mimetype": "text/x-python",
   "name": "python",
   "nbconvert_exporter": "python",
   "pygments_lexer": "ipython3",
   "version": "3.9.7"
  }
 },
 "nbformat": 4,
 "nbformat_minor": 5
}
